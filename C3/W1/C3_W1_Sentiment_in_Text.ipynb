{
  "nbformat": 4,
  "nbformat_minor": 0,
  "metadata": {
    "colab": {
      "provenance": []
    },
    "kernelspec": {
      "name": "python3",
      "display_name": "Python 3"
    },
    "language_info": {
      "name": "python"
    }
  },
  "cells": [
    {
      "cell_type": "markdown",
      "source": [
        "# Lab 1: Tokenizer Basics\n",
        "\n",
        "when work with text, we need to represent it as a numerical so the computer can process it. We do it by tokenizing the sentences for each word as a number (create vocab/ word_index)"
      ],
      "metadata": {
        "id": "LiAYlNbndiTX"
      }
    },
    {
      "cell_type": "code",
      "source": [
        "from tensorflow.keras.preprocessing.text import Tokenizer\n",
        "\n",
        "# sentences\n",
        "sentences = [\"I love my dog\",\n",
        "             \"I, love my cat\"]\n",
        "\n",
        "# initialize Tokenizer\n",
        "tokenizer = Tokenizer(num_words=100)\n",
        "\n",
        "# fit text\n",
        "tokenizer.fit_on_texts(sentences)\n",
        "\n",
        "# see the vocab\n",
        "word_index = tokenizer.word_index\n",
        "print(word_index)"
      ],
      "metadata": {
        "colab": {
          "base_uri": "https://localhost:8080/"
        },
        "id": "zl3GAB-Bdv4t",
        "outputId": "33e1e540-38f8-44e2-80d8-8f4c658cf5a7"
      },
      "execution_count": 14,
      "outputs": [
        {
          "output_type": "stream",
          "name": "stdout",
          "text": [
            "{'i': 1, 'love': 2, 'my': 3, 'dog': 4, 'cat': 5}\n"
          ]
        }
      ]
    },
    {
      "cell_type": "markdown",
      "source": [
        "num words parameter is used to limit number of vocab generated. but it doesn't affect the generated word index for this data yet"
      ],
      "metadata": {
        "id": "US_bU7pwmqcj"
      }
    },
    {
      "cell_type": "code",
      "source": [
        "from tensorflow.keras.preprocessing.text import Tokenizer\n",
        "\n",
        "sentences = [\"I love my dog\",\n",
        "             \"I. love my cat\",\n",
        "             \"You love my dog!\"]\n",
        "\n",
        "tokenizer = Tokenizer(num_words=100)\n",
        "tokenizer.fit_on_texts(sentences)\n",
        "\n",
        "word_index = tokenizer.word_index\n",
        "print(word_index)"
      ],
      "metadata": {
        "colab": {
          "base_uri": "https://localhost:8080/"
        },
        "id": "oVT0UwpSkaqV",
        "outputId": "b537e374-ed84-472a-c5c9-d757fdc99c16"
      },
      "execution_count": 15,
      "outputs": [
        {
          "output_type": "stream",
          "name": "stdout",
          "text": [
            "{'love': 1, 'my': 2, 'i': 3, 'dog': 4, 'cat': 5, 'you': 6}\n"
          ]
        }
      ]
    },
    {
      "cell_type": "markdown",
      "source": [
        "punctuation are ignored, and texts all in lowercase by default"
      ],
      "metadata": {
        "id": "6HG07gZvn2wh"
      }
    },
    {
      "cell_type": "markdown",
      "source": [
        "# Lab 2: Generating Sequences and Padding\n",
        "After generate the word_index. Then apply the word_index to **convert text to sequence** (sentences to number sequences) because model only can understand number. An then **padded** so it has the same length as any machine learning model requirement that all input need to be the same sized."
      ],
      "metadata": {
        "id": "JotkbgkdcViE"
      }
    },
    {
      "cell_type": "code",
      "source": [
        "from tensorflow.keras.preprocessing.text import Tokenizer\n",
        "from tensorflow.keras.preprocessing.sequence import pad_sequences\n",
        "\n",
        "sentences = [\"I love my dog\",\n",
        "             \"I, love my cat\",\n",
        "             \"You love my dog!\",\n",
        "             \"Do you think my dog is amazing?\"]\n",
        "\n",
        "# initialize tokenizer\n",
        "tokenizer = Tokenizer(num_words=100, oov_token=\"<OOV>\")\n",
        "\n",
        "# use tokenizer to create vocab of corpus\n",
        "tokenizer.fit_on_texts(sentences)\n",
        "\n",
        "# vocab of tokens\n",
        "print(f'\\nWord index: {tokenizer.word_index}')\n",
        "\n",
        "# convert sentences to tokens using the word_index\n",
        "sequences = tokenizer.texts_to_sequences(sentences)\n",
        "\n",
        "print(f\"\\nSequences: {sequences}\")"
      ],
      "metadata": {
        "colab": {
          "base_uri": "https://localhost:8080/"
        },
        "id": "D2VaTBwFc_WZ",
        "outputId": "3a7b4b15-d406-4ec2-e957-9eac1a65cdfc"
      },
      "execution_count": 16,
      "outputs": [
        {
          "output_type": "stream",
          "name": "stdout",
          "text": [
            "\n",
            "Word index: {'<OOV>': 1, 'my': 2, 'love': 3, 'dog': 4, 'i': 5, 'you': 6, 'cat': 7, 'do': 8, 'think': 9, 'is': 10, 'amazing': 11}\n",
            "\n",
            "Sequences: [[5, 3, 2, 4], [5, 3, 2, 7], [6, 3, 2, 4], [8, 6, 9, 2, 4, 10, 11]]\n"
          ]
        }
      ]
    },
    {
      "cell_type": "code",
      "source": [
        "# pad the sequences into the same length\n",
        "padded_sequences = pad_sequences(sequences, maxlen=5)\n",
        "\n",
        "print('\\nPadded sequence:')\n",
        "print(padded_sequences)"
      ],
      "metadata": {
        "colab": {
          "base_uri": "https://localhost:8080/"
        },
        "id": "Ex-FTfTPpio3",
        "outputId": "aa8e9a5e-a070-48f0-aa7d-c5f74c8b677d"
      },
      "execution_count": 17,
      "outputs": [
        {
          "output_type": "stream",
          "name": "stdout",
          "text": [
            "\n",
            "Padded sequence:\n",
            "[[ 0  5  3  2  4]\n",
            " [ 0  5  3  2  7]\n",
            " [ 0  6  3  2  4]\n",
            " [ 9  2  4 10 11]]\n"
          ]
        }
      ]
    },
    {
      "cell_type": "markdown",
      "source": [
        "we use the oov_token before to tokenize the word that tokenizer never seen before as below"
      ],
      "metadata": {
        "id": "QxlHf9kTmpnW"
      }
    },
    {
      "cell_type": "code",
      "source": [
        "sentences2 = [\"i really love my dog\",\n",
        "             \"my dog loves my manatee\"]\n",
        "\n",
        "sequences2 = tokenizer.texts_to_sequences(sentences2)\n",
        "\n",
        "print(\"\\nSequences:\")\n",
        "print(sequences2)\n",
        "\n",
        "padded_sequences2 = pad_sequences(sequences2, maxlen=10)\n",
        "print(\"\\nPadded sequences:\")\n",
        "print(padded_sequences2)"
      ],
      "metadata": {
        "colab": {
          "base_uri": "https://localhost:8080/"
        },
        "id": "YqVXcMUsiJDC",
        "outputId": "d0814238-4ea1-4b61-e134-8869e8001e04"
      },
      "execution_count": 18,
      "outputs": [
        {
          "output_type": "stream",
          "name": "stdout",
          "text": [
            "\n",
            "Sequences:\n",
            "[[5, 1, 3, 2, 4], [2, 4, 1, 2, 1]]\n",
            "\n",
            "Padded sequences:\n",
            "[[0 0 0 0 0 5 1 3 2 4]\n",
            " [0 0 0 0 0 2 4 1 2 1]]\n"
          ]
        }
      ]
    },
    {
      "cell_type": "markdown",
      "source": [
        "# Lab 3: Tokenizing the Sarcasm Dataset"
      ],
      "metadata": {
        "id": "riQb3u58tw5Z"
      }
    },
    {
      "cell_type": "code",
      "source": [
        "# Download the dataset\n",
        "!wget https://storage.googleapis.com/tensorflow-1-public/course3/sarcasm.json"
      ],
      "metadata": {
        "colab": {
          "base_uri": "https://localhost:8080/"
        },
        "id": "ybgInBKWpaPp",
        "outputId": "7522b538-ae67-4685-bc26-33b48ca5fe2e"
      },
      "execution_count": 43,
      "outputs": [
        {
          "output_type": "stream",
          "name": "stdout",
          "text": [
            "--2023-10-21 00:50:10--  https://storage.googleapis.com/tensorflow-1-public/course3/sarcasm.json\n",
            "Resolving storage.googleapis.com (storage.googleapis.com)... 108.177.126.207, 172.217.218.207, 2a00:1450:4013:c01::cf, ...\n",
            "Connecting to storage.googleapis.com (storage.googleapis.com)|108.177.126.207|:443... connected.\n",
            "HTTP request sent, awaiting response... 200 OK\n",
            "Length: 5643545 (5.4M) [application/json]\n",
            "Saving to: ‘sarcasm.json.1’\n",
            "\n",
            "sarcasm.json.1      100%[===================>]   5.38M  9.02MB/s    in 0.6s    \n",
            "\n",
            "2023-10-21 00:50:11 (9.02 MB/s) - ‘sarcasm.json.1’ saved [5643545/5643545]\n",
            "\n"
          ]
        }
      ]
    },
    {
      "cell_type": "code",
      "source": [
        "# open the file\n",
        "import json\n",
        "\n",
        "with open('sarcasm.json') as f:\n",
        "  dataset = json.load(f)"
      ],
      "metadata": {
        "id": "0MKGefChpiuK"
      },
      "execution_count": 44,
      "outputs": []
    },
    {
      "cell_type": "code",
      "source": [
        "# look at the data\n",
        "\n",
        "# is sarcas data\n",
        "print(dataset[0])\n",
        "\n",
        "# is not sarcas data\n",
        "print(dataset[20000])"
      ],
      "metadata": {
        "colab": {
          "base_uri": "https://localhost:8080/"
        },
        "id": "fA0KKXuaqxR3",
        "outputId": "3acb9c4a-05b1-4780-8db2-de092bcb1e2b"
      },
      "execution_count": 45,
      "outputs": [
        {
          "output_type": "stream",
          "name": "stdout",
          "text": [
            "{'article_link': 'https://www.huffingtonpost.com/entry/versace-black-code_us_5861fbefe4b0de3a08f600d5', 'headline': \"former versace store clerk sues over secret 'black code' for minority shoppers\", 'is_sarcastic': 0}\n",
            "{'article_link': 'https://www.theonion.com/pediatricians-announce-2011-newborns-are-ugliest-babies-1819572977', 'headline': 'pediatricians announce 2011 newborns are ugliest babies in 30 years', 'is_sarcastic': 1}\n"
          ]
        }
      ]
    },
    {
      "cell_type": "code",
      "source": [
        "# process the data into separate arrray so the tools tokenizer etc can process it\n",
        "articles = []\n",
        "sentences = []\n",
        "labels = []\n",
        "\n",
        "for item in dataset:\n",
        "  articles.append(item['article_link'])\n",
        "  sentences.append(item['headline'])\n",
        "  labels.append(item['is_sarcastic'])"
      ],
      "metadata": {
        "id": "4PnkWndip8iH"
      },
      "execution_count": 46,
      "outputs": []
    },
    {
      "cell_type": "markdown",
      "source": [
        "so, let's process it"
      ],
      "metadata": {
        "id": "5t_BqBqWt1al"
      }
    },
    {
      "cell_type": "code",
      "source": [
        "from tensorflow.keras.preprocessing.text import Tokenizer\n",
        "from tensorflow.keras.preprocessing.sequence import pad_sequences\n",
        "\n",
        "# initialize tokenizer\n",
        "tokenizer = Tokenizer(oov_token=\"<OOV>\")\n",
        "\n",
        "tokenizer.fit_on_texts(sentences)\n",
        "\n",
        "print(f'\\nTotal generated word index: {len(tokenizer.word_index)}')\n",
        "\n",
        "print('Total of word index: ', len(tokenizer.word_index))\n",
        "\n",
        "sequences = tokenizer.texts_to_sequences(sentences)\n",
        "\n",
        "# pad sequence\n",
        "padded = pad_sequences(sequences, padding='post')\n",
        "\n",
        "index=2002\n",
        "print('\\nsample headline: ', sentences[index])\n",
        "print('\\npadded Sequence:', padded[index])\n",
        "\n",
        "print(f'\\nShape of sentence after padded: {padded.shape}')"
      ],
      "metadata": {
        "colab": {
          "base_uri": "https://localhost:8080/"
        },
        "id": "t5s6aI8ktpEG",
        "outputId": "b8a5c9b5-900b-460d-f7ea-84e6099f041f"
      },
      "execution_count": 47,
      "outputs": [
        {
          "output_type": "stream",
          "name": "stdout",
          "text": [
            "\n",
            "Total generated word index: 29657\n",
            "Total of word index:  29657\n",
            "\n",
            "sample headline:  what being a christian means to me: don't worry about the rules; just love\n",
            "\n",
            "padded Sequence: [  33  115    7 1034 1304    2  268  184 2597   17    4  621   36  144\n",
            "    0    0    0    0    0    0    0    0    0    0    0    0    0    0\n",
            "    0    0    0    0    0    0    0    0    0    0    0    0]\n",
            "\n",
            "Shape of sentence after padded: (26709, 40)\n"
          ]
        }
      ]
    },
    {
      "cell_type": "markdown",
      "source": [
        "# Assignment C3 W1\n",
        "\n",
        "we use BBC dataset [BBC News Classification Dataset](https://www.kaggle.com/c/learn-ai-bbc/overview), which contains 2225 examples of news articles with their respective categories (labels)."
      ],
      "metadata": {
        "id": "SamO8ep3LOG_"
      }
    },
    {
      "cell_type": "code",
      "source": [
        "!wget --no-check-certificate \\\n",
        "    https://storage.googleapis.com/learning-datasets/bbc-text.csv \\\n",
        "    -O /tmp/bbc-text.csv"
      ],
      "metadata": {
        "colab": {
          "base_uri": "https://localhost:8080/"
        },
        "id": "HjpIQJCiNtc5",
        "outputId": "1ac3a019-c8fb-43ef-c4ed-83a456b784f7"
      },
      "execution_count": 24,
      "outputs": [
        {
          "output_type": "stream",
          "name": "stdout",
          "text": [
            "--2023-10-21 00:26:53--  https://storage.googleapis.com/learning-datasets/bbc-text.csv\n",
            "Resolving storage.googleapis.com (storage.googleapis.com)... 108.177.126.207, 108.177.127.207, 172.217.218.207, ...\n",
            "Connecting to storage.googleapis.com (storage.googleapis.com)|108.177.126.207|:443... connected.\n",
            "HTTP request sent, awaiting response... 200 OK\n",
            "Length: 5057493 (4.8M) [text/csv]\n",
            "Saving to: ‘/tmp/bbc-text.csv’\n",
            "\n",
            "/tmp/bbc-text.csv   100%[===================>]   4.82M  7.76MB/s    in 0.6s    \n",
            "\n",
            "2023-10-21 00:26:54 (7.76 MB/s) - ‘/tmp/bbc-text.csv’ saved [5057493/5057493]\n",
            "\n"
          ]
        }
      ]
    },
    {
      "cell_type": "code",
      "source": [
        "# first, look at the data\n",
        "with open('/tmp/bbc-text.csv', 'r') as csvfile:\n",
        "  print(f'The first line (header) looks like this\\n {csvfile.readline()}')\n",
        "  print(f'Each data point looks like this\\n {csvfile.readline()}')"
      ],
      "metadata": {
        "colab": {
          "base_uri": "https://localhost:8080/"
        },
        "id": "95xbqMFwOQos",
        "outputId": "068e9455-5c3d-40eb-b4bf-c722f60f64b8"
      },
      "execution_count": 25,
      "outputs": [
        {
          "output_type": "stream",
          "name": "stdout",
          "text": [
            "The first line (header) looks like this\n",
            " category,text\n",
            "\n",
            "Each data point looks like this\n",
            " tech,tv future in the hands of viewers with home theatre systems  plasma high-definition tvs  and digital video recorders moving into the living room  the way people watch tv will be radically different in five years  time.  that is according to an expert panel which gathered at the annual consumer electronics show in las vegas to discuss how these new technologies will impact one of our favourite pastimes. with the us leading the trend  programmes and other content will be delivered to viewers via home networks  through cable  satellite  telecoms companies  and broadband service providers to front rooms and portable devices.  one of the most talked-about technologies of ces has been digital and personal video recorders (dvr and pvr). these set-top boxes  like the us s tivo and the uk s sky+ system  allow people to record  store  play  pause and forward wind tv programmes when they want.  essentially  the technology allows for much more personalised tv. they are also being built-in to high-definition tv sets  which are big business in japan and the us  but slower to take off in europe because of the lack of high-definition programming. not only can people forward wind through adverts  they can also forget about abiding by network and channel schedules  putting together their own a-la-carte entertainment. but some us networks and cable and satellite companies are worried about what it means for them in terms of advertising revenues as well as  brand identity  and viewer loyalty to channels. although the us leads in this technology at the moment  it is also a concern that is being raised in europe  particularly with the growing uptake of services like sky+.  what happens here today  we will see in nine months to a years  time in the uk   adam hume  the bbc broadcast s futurologist told the bbc news website. for the likes of the bbc  there are no issues of lost advertising revenue yet. it is a more pressing issue at the moment for commercial uk broadcasters  but brand loyalty is important for everyone.  we will be talking more about content brands rather than network brands   said tim hanlon  from brand communications firm starcom mediavest.  the reality is that with broadband connections  anybody can be the producer of content.  he added:  the challenge now is that it is hard to promote a programme with so much choice.   what this means  said stacey jolna  senior vice president of tv guide tv group  is that the way people find the content they want to watch has to be simplified for tv viewers. it means that networks  in us terms  or channels could take a leaf out of google s book and be the search engine of the future  instead of the scheduler to help people find what they want to watch. this kind of channel model might work for the younger ipod generation which is used to taking control of their gadgets and what they play on them. but it might not suit everyone  the panel recognised. older generations are more comfortable with familiar schedules and channel brands because they know what they are getting. they perhaps do not want so much of the choice put into their hands  mr hanlon suggested.  on the other end  you have the kids just out of diapers who are pushing buttons already - everything is possible and available to them   said mr hanlon.  ultimately  the consumer will tell the market they want.   of the 50 000 new gadgets and technologies being showcased at ces  many of them are about enhancing the tv-watching experience. high-definition tv sets are everywhere and many new models of lcd (liquid crystal display) tvs have been launched with dvr capability built into them  instead of being external boxes. one such example launched at the show is humax s 26-inch lcd tv with an 80-hour tivo dvr and dvd recorder. one of the us s biggest satellite tv companies  directtv  has even launched its own branded dvr at the show with 100-hours of recording capability  instant replay  and a search function. the set can pause and rewind tv for up to 90 hours. and microsoft chief bill gates announced in his pre-show keynote speech a partnership with tivo  called tivotogo  which means people can play recorded programmes on windows pcs and mobile devices. all these reflect the increasing trend of freeing up multimedia so that people can watch what they want  when they want.\n",
            "\n"
          ]
        }
      ]
    },
    {
      "cell_type": "markdown",
      "source": [
        "next, we want to remove stopwords from the sentences to give better prediction"
      ],
      "metadata": {
        "id": "FVo0X1RfbtA8"
      }
    },
    {
      "cell_type": "code",
      "source": [
        "def remove_stopwords(sentence):\n",
        "    '''\n",
        "    remove stopwords from sentences\n",
        "\n",
        "    Args:\n",
        "    sentence (string): sentence to remove stopwords from\n",
        "\n",
        "    Returns:\n",
        "    sentence (string): sentence in lowercase without stopwords\n",
        "    '''\n",
        "    # List of stopwords\n",
        "    #Stopwords list from https://github.com/Yoast/YoastSEO.js/blob/develop/src/config/stopwords.js\n",
        "    stopwords = [\"a\", \"about\", \"above\", \"after\", \"again\", \"against\", \"all\", \"am\", \"an\", \"and\", \"any\", \"are\", \"as\", \"at\", \"be\", \"because\", \"been\", \"before\", \"being\", \"below\", \"between\", \"both\", \"but\", \"by\", \"could\", \"did\", \"do\", \"does\", \"doing\", \"down\", \"during\", \"each\", \"few\", \"for\", \"from\", \"further\", \"had\", \"has\", \"have\", \"having\", \"he\", \"he'd\", \"he'll\", \"he's\", \"her\", \"here\", \"here's\", \"hers\", \"herself\", \"him\", \"himself\", \"his\", \"how\", \"how's\", \"i\", \"i'd\", \"i'll\", \"i'm\", \"i've\", \"if\", \"in\", \"into\", \"is\", \"it\", \"it's\", \"its\", \"itself\", \"let's\", \"me\", \"more\", \"most\", \"my\", \"myself\", \"nor\", \"of\", \"on\", \"once\", \"only\", \"or\", \"other\", \"ought\", \"our\", \"ours\", \"ourselves\", \"out\", \"over\", \"own\", \"same\", \"she\", \"she'd\", \"she'll\", \"she's\", \"should\", \"so\", \"some\", \"such\", \"than\", \"that\", \"that's\", \"the\", \"their\", \"theirs\", \"them\", \"themselves\", \"then\", \"there\", \"there's\", \"these\", \"they\", \"they'd\", \"they'll\", \"they're\", \"they've\", \"this\", \"those\", \"through\", \"to\", \"too\", \"under\", \"until\", \"up\", \"very\", \"was\", \"we\", \"we'd\", \"we'll\", \"we're\", \"we've\", \"were\", \"what\", \"what's\", \"when\", \"when's\", \"where\", \"where's\", \"which\", \"while\", \"who\", \"who's\", \"whom\", \"why\", \"why's\", \"with\", \"would\", \"you\", \"you'd\", \"you'll\", \"you're\", \"you've\", \"your\", \"yours\", \"yourself\", \"yourselves\" ]\n",
        "\n",
        "    sentence = sentence.lower()\n",
        "\n",
        "    words = sentence.split(' ')\n",
        "    cleaned_words = [x for x in words if x not in stopwords]\n",
        "    sentence = \" \".join(cleaned_words)\n",
        "\n",
        "    return sentence"
      ],
      "metadata": {
        "id": "4tdemq4Sbdpz"
      },
      "execution_count": 26,
      "outputs": []
    },
    {
      "cell_type": "markdown",
      "source": [
        "parse data so it can be processed further\n"
      ],
      "metadata": {
        "id": "DLG_A9eQieYU"
      }
    },
    {
      "cell_type": "code",
      "source": [
        "import csv\n",
        "\n",
        "sentences = []\n",
        "labels = []\n",
        "\n",
        "with open('/tmp/bbc-text.csv', 'r') as csvfile:\n",
        "    csv_reader = csv.reader(csvfile, delimiter=',')\n",
        "\n",
        "    # skip the header\n",
        "    next(csv_reader)\n",
        "\n",
        "    for row in csv_reader:\n",
        "      labels.append(row[0])\n",
        "      cleaned_sentences = remove_stopwords(row[1])\n",
        "      sentences.append(cleaned_sentences)"
      ],
      "metadata": {
        "id": "GDTowYGvhZVm"
      },
      "execution_count": 27,
      "outputs": []
    },
    {
      "cell_type": "code",
      "source": [
        "# tokenize sentences\n",
        "from tensorflow.keras.preprocessing.text import Tokenizer\n",
        "from tensorflow.keras.preprocessing.sequence import pad_sequences\n",
        "\n",
        "tokenizer = Tokenizer(oov_token=\"<OOV>\")\n",
        "\n",
        "tokenizer.fit_on_texts(sentences)\n",
        "\n",
        "word_index = tokenizer.word_index\n",
        "print(\"Total of word index: \", len(word_index))\n",
        "\n",
        "sequences = tokenizer.texts_to_sequences(sentences)\n",
        "padded_sentences = pad_sequences(sequences, padding='post')\n",
        "\n",
        "print(f'\\nPadded the first sentence \\n', padded_sentences[0])"
      ],
      "metadata": {
        "colab": {
          "base_uri": "https://localhost:8080/"
        },
        "id": "7DC3ENYNkfMP",
        "outputId": "5a5917ce-696f-47f3-a985-f5f235261f26"
      },
      "execution_count": 41,
      "outputs": [
        {
          "output_type": "stream",
          "name": "stdout",
          "text": [
            "Total of word index:  29714\n",
            "\n",
            "Padded the first sentence \n",
            " [  96  176 1157 ...    0    0    0]\n"
          ]
        }
      ]
    },
    {
      "cell_type": "markdown",
      "source": [
        "after tokenizing the sentence, we also need tokenize the labels because the labels are text too"
      ],
      "metadata": {
        "id": "GZugZ93Yne1l"
      }
    },
    {
      "cell_type": "code",
      "source": [
        "label_tokenizer = Tokenizer()\n",
        "label_tokenizer.fit_on_texts(labels)\n",
        "labels_sequences = label_tokenizer.texts_to_sequences(labels)\n",
        "\n",
        "print(f'Word index of labels: {label_tokenizer.word_index}')\n",
        "print(f'\\nThe first ten labels: {labels_sequences[:10]}')"
      ],
      "metadata": {
        "colab": {
          "base_uri": "https://localhost:8080/"
        },
        "id": "-Sb3motanR3B",
        "outputId": "b1dafc1a-c9fd-42d1-8cc9-aa8e858279bf"
      },
      "execution_count": 40,
      "outputs": [
        {
          "output_type": "stream",
          "name": "stdout",
          "text": [
            "Word index of labels: {'sport': 1, 'business': 2, 'politics': 3, 'tech': 4, 'entertainment': 5}\n",
            "\n",
            "The first ten labels: [[4], [2], [1], [1], [5], [3], [3], [1], [1], [5]]\n"
          ]
        }
      ]
    }
  ]
}