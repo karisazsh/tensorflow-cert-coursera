{
  "cells": [
    {
      "cell_type": "markdown",
      "id": "stopped-scale",
      "metadata": {
        "id": "stopped-scale"
      },
      "source": [
        "# Week 2: Diving deeper into the BBC News archive\n",
        "\n",
        "Welcome! In this assignment you will be revisiting the [BBC News Classification Dataset](https://www.kaggle.com/c/learn-ai-bbc/overview), which contains 2225 examples of news articles with their respective labels.\n",
        "\n",
        "This time you will not only work with the tokenization process but you will also create a classifier using specialized layers for text data such as Embedding and GlobalAveragePooling1D.\n",
        "\n",
        "Let's get started!"
      ]
    },
    {
      "cell_type": "code",
      "execution_count": 56,
      "id": "magnetic-rebate",
      "metadata": {
        "id": "magnetic-rebate",
        "tags": [
          "graded"
        ]
      },
      "outputs": [],
      "source": [
        "import io\n",
        "import csv\n",
        "import tensorflow as tf\n",
        "import numpy as np\n",
        "from tensorflow.keras.preprocessing.text import Tokenizer\n",
        "from tensorflow.keras.preprocessing.sequence import pad_sequences\n",
        "import matplotlib.pyplot as plt"
      ]
    },
    {
      "cell_type": "markdown",
      "id": "lightweight-cambridge",
      "metadata": {
        "id": "lightweight-cambridge"
      },
      "source": [
        "You probably remember structure of the csv that contains the data from last week, but in case you need a reminder run the next cell:"
      ]
    },
    {
      "cell_type": "code",
      "execution_count": 57,
      "id": "floppy-stuff",
      "metadata": {
        "tags": [
          "graded"
        ],
        "colab": {
          "base_uri": "https://localhost:8080/"
        },
        "id": "floppy-stuff",
        "outputId": "577d3510-6944-411e-d6e2-089a7562bb12"
      },
      "outputs": [
        {
          "output_type": "stream",
          "name": "stdout",
          "text": [
            "First line (header) looks like this:\n",
            "\n",
            "category,text\n",
            "\n",
            "Each data point looks like this:\n",
            "\n",
            "tech,tv future in the hands of viewers with home theatre systems  plasma high-definition tvs  and digital video recorders moving into the living room  the way people watch tv will be radically different in five years  time.  that is according to an expert panel which gathered at the annual consumer electronics show in las vegas to discuss how these new technologies will impact one of our favourite pastimes. with the us leading the trend  programmes and other content will be delivered to viewers via home networks  through cable  satellite  telecoms companies  and broadband service providers to front rooms and portable devices.  one of the most talked-about technologies of ces has been digital and personal video recorders (dvr and pvr). these set-top boxes  like the us s tivo and the uk s sky+ system  allow people to record  store  play  pause and forward wind tv programmes when they want.  essentially  the technology allows for much more personalised tv. they are also being built-in to high-definition tv sets  which are big business in japan and the us  but slower to take off in europe because of the lack of high-definition programming. not only can people forward wind through adverts  they can also forget about abiding by network and channel schedules  putting together their own a-la-carte entertainment. but some us networks and cable and satellite companies are worried about what it means for them in terms of advertising revenues as well as  brand identity  and viewer loyalty to channels. although the us leads in this technology at the moment  it is also a concern that is being raised in europe  particularly with the growing uptake of services like sky+.  what happens here today  we will see in nine months to a years  time in the uk   adam hume  the bbc broadcast s futurologist told the bbc news website. for the likes of the bbc  there are no issues of lost advertising revenue yet. it is a more pressing issue at the moment for commercial uk broadcasters  but brand loyalty is important for everyone.  we will be talking more about content brands rather than network brands   said tim hanlon  from brand communications firm starcom mediavest.  the reality is that with broadband connections  anybody can be the producer of content.  he added:  the challenge now is that it is hard to promote a programme with so much choice.   what this means  said stacey jolna  senior vice president of tv guide tv group  is that the way people find the content they want to watch has to be simplified for tv viewers. it means that networks  in us terms  or channels could take a leaf out of google s book and be the search engine of the future  instead of the scheduler to help people find what they want to watch. this kind of channel model might work for the younger ipod generation which is used to taking control of their gadgets and what they play on them. but it might not suit everyone  the panel recognised. older generations are more comfortable with familiar schedules and channel brands because they know what they are getting. they perhaps do not want so much of the choice put into their hands  mr hanlon suggested.  on the other end  you have the kids just out of diapers who are pushing buttons already - everything is possible and available to them   said mr hanlon.  ultimately  the consumer will tell the market they want.   of the 50 000 new gadgets and technologies being showcased at ces  many of them are about enhancing the tv-watching experience. high-definition tv sets are everywhere and many new models of lcd (liquid crystal display) tvs have been launched with dvr capability built into them  instead of being external boxes. one such example launched at the show is humax s 26-inch lcd tv with an 80-hour tivo dvr and dvd recorder. one of the us s biggest satellite tv companies  directtv  has even launched its own branded dvr at the show with 100-hours of recording capability  instant replay  and a search function. the set can pause and rewind tv for up to 90 hours. and microsoft chief bill gates announced in his pre-show keynote speech a partnership with tivo  called tivotogo  which means people can play recorded programmes on windows pcs and mobile devices. all these reflect the increasing trend of freeing up multimedia so that people can watch what they want  when they want.\n",
            "\n"
          ]
        }
      ],
      "source": [
        "with open(\"./bbc-text.csv\", 'r') as csvfile:\n",
        "    print(f\"First line (header) looks like this:\\n\\n{csvfile.readline()}\")\n",
        "    print(f\"Each data point looks like this:\\n\\n{csvfile.readline()}\")"
      ]
    },
    {
      "cell_type": "markdown",
      "id": "bizarre-veteran",
      "metadata": {
        "id": "bizarre-veteran"
      },
      "source": [
        "As you can see, each data point is composed of the category of the news article followed by a comma and then the actual text of the article."
      ]
    },
    {
      "cell_type": "markdown",
      "id": "balanced-settle",
      "metadata": {
        "id": "balanced-settle"
      },
      "source": [
        "## Defining useful global variables\n",
        "\n",
        "Next, you will define some global variables that will be used in the unit tests after your solutions. **Please do not use these in the function body of the graded functions.**\n",
        "\n",
        "- `NUM_WORDS`: The maximum number of words to keep, based on word frequency. Defaults to 1000.\n",
        "\n",
        "\n",
        "- `EMBEDDING_DIM`: Dimension of the dense embedding, will be used in the embedding layer of the model. Defaults to 16.\n",
        "\n",
        "\n",
        "- `MAXLEN`: Maximum length of all sequences. Defaults to 120.\n",
        "\n",
        "\n",
        "- `PADDING`: Padding strategy (pad either before or after each sequence.). Defaults to 'post'.\n",
        "\n",
        "\n",
        "- `OOV_TOKEN`: Token to replace out-of-vocabulary words during text_to_sequence calls. Defaults to \"\\<OOV>\".\n",
        "\n",
        "    \n",
        "- `TRAINING_SPLIT`: Proportion of data used for training. Defaults to 0.8\n",
        "\n",
        "**For now leave them unchanged but after submitting your assignment for grading you are encouraged to come back here and play with these parameters to see the impact they have in the classification process**"
      ]
    },
    {
      "cell_type": "code",
      "execution_count": 58,
      "id": "quantitative-mauritius",
      "metadata": {
        "tags": [
          "graded"
        ],
        "id": "quantitative-mauritius"
      },
      "outputs": [],
      "source": [
        "NUM_WORDS = 1000\n",
        "EMBEDDING_DIM = 16\n",
        "MAXLEN = 120\n",
        "PADDING = 'post'\n",
        "OOV_TOKEN = \"<OOV>\"\n",
        "TRAINING_SPLIT = .8"
      ]
    },
    {
      "cell_type": "markdown",
      "id": "synthetic-beijing",
      "metadata": {
        "id": "synthetic-beijing"
      },
      "source": [
        "## Loading and pre-processing the data\n",
        "\n",
        "Now you should code the functions to remove stopwords from text and to load the data from a csv file.\n",
        "\n",
        "Since you already coded these functions for the previous week, these are provided for you."
      ]
    },
    {
      "cell_type": "code",
      "execution_count": 59,
      "id": "flying-lincoln",
      "metadata": {
        "tags": [
          "graded"
        ],
        "id": "flying-lincoln"
      },
      "outputs": [],
      "source": [
        "def remove_stopwords(sentence):\n",
        "    \"\"\"\n",
        "    Removes a list of stopwords\n",
        "\n",
        "    Args:\n",
        "        sentence (string): sentence to remove the stopwords from\n",
        "\n",
        "    Returns:\n",
        "        sentence (string): lowercase sentence without the stopwords\n",
        "    \"\"\"\n",
        "    # List of stopwords\n",
        "    stopwords = [\"a\", \"about\", \"above\", \"after\", \"again\", \"against\", \"all\", \"am\", \"an\", \"and\", \"any\", \"are\", \"as\", \"at\", \"be\", \"because\", \"been\", \"before\", \"being\", \"below\", \"between\", \"both\", \"but\", \"by\", \"could\", \"did\", \"do\", \"does\", \"doing\", \"down\", \"during\", \"each\", \"few\", \"for\", \"from\", \"further\", \"had\", \"has\", \"have\", \"having\", \"he\", \"he'd\", \"he'll\", \"he's\", \"her\", \"here\", \"here's\", \"hers\", \"herself\", \"him\", \"himself\", \"his\", \"how\", \"how's\", \"i\", \"i'd\", \"i'll\", \"i'm\", \"i've\", \"if\", \"in\", \"into\", \"is\", \"it\", \"it's\", \"its\", \"itself\", \"let's\", \"me\", \"more\", \"most\", \"my\", \"myself\", \"nor\", \"of\", \"on\", \"once\", \"only\", \"or\", \"other\", \"ought\", \"our\", \"ours\", \"ourselves\", \"out\", \"over\", \"own\", \"same\", \"she\", \"she'd\", \"she'll\", \"she's\", \"should\", \"so\", \"some\", \"such\", \"than\", \"that\", \"that's\", \"the\", \"their\", \"theirs\", \"them\", \"themselves\", \"then\", \"there\", \"there's\", \"these\", \"they\", \"they'd\", \"they'll\", \"they're\", \"they've\", \"this\", \"those\", \"through\", \"to\", \"too\", \"under\", \"until\", \"up\", \"very\", \"was\", \"we\", \"we'd\", \"we'll\", \"we're\", \"we've\", \"were\", \"what\", \"what's\", \"when\", \"when's\", \"where\", \"where's\", \"which\", \"while\", \"who\", \"who's\", \"whom\", \"why\", \"why's\", \"with\", \"would\", \"you\", \"you'd\", \"you'll\", \"you're\", \"you've\", \"your\", \"yours\", \"yourself\", \"yourselves\" ]\n",
        "\n",
        "    # Sentence converted to lowercase-only\n",
        "    sentence = sentence.lower()\n",
        "\n",
        "    words = sentence.split()\n",
        "    no_words = [w for w in words if w not in stopwords]\n",
        "    sentence = \" \".join(no_words)\n",
        "\n",
        "    return sentence\n",
        "\n",
        "\n",
        "def parse_data_from_file(filename):\n",
        "    \"\"\"\n",
        "    Extracts sentences and labels from a CSV file\n",
        "\n",
        "    Args:\n",
        "        filename (string): path to the CSV file\n",
        "\n",
        "    Returns:\n",
        "        sentences, labels (list of string, list of string): tuple containing lists of sentences and labels\n",
        "    \"\"\"\n",
        "    sentences = []\n",
        "    labels = []\n",
        "    with open(filename, 'r') as csvfile:\n",
        "        reader = csv.reader(csvfile, delimiter=',')\n",
        "        next(reader)\n",
        "        for row in reader:\n",
        "            labels.append(row[0])\n",
        "            sentence = row[1]\n",
        "            sentence = remove_stopwords(sentence)\n",
        "            sentences.append(sentence)\n",
        "\n",
        "    return sentences, labels"
      ]
    },
    {
      "cell_type": "code",
      "execution_count": 60,
      "id": "sublime-maine",
      "metadata": {
        "tags": [
          "graded"
        ],
        "colab": {
          "base_uri": "https://localhost:8080/"
        },
        "id": "sublime-maine",
        "outputId": "4fce7eb0-58f4-44a8-ecc5-ee32d3e92d2f"
      },
      "outputs": [
        {
          "output_type": "stream",
          "name": "stdout",
          "text": [
            "There are 2225 sentences in the dataset.\n",
            "\n",
            "First sentence has 436 words (after removing stopwords).\n",
            "\n",
            "There are 2225 labels in the dataset.\n",
            "\n",
            "The first 5 labels are ['tech', 'business', 'sport', 'sport', 'entertainment']\n"
          ]
        }
      ],
      "source": [
        "# Test the functions\n",
        "sentences, labels = parse_data_from_file(\"./bbc-text.csv\")\n",
        "\n",
        "print(f\"There are {len(sentences)} sentences in the dataset.\\n\")\n",
        "print(f\"First sentence has {len(sentences[0].split())} words (after removing stopwords).\\n\")\n",
        "print(f\"There are {len(labels)} labels in the dataset.\\n\")\n",
        "print(f\"The first 5 labels are {labels[:5]}\")"
      ]
    },
    {
      "cell_type": "markdown",
      "id": "consecutive-battle",
      "metadata": {
        "id": "consecutive-battle"
      },
      "source": [
        "***Expected Output:***\n",
        "\n",
        "```\n",
        "There are 2225 sentences in the dataset.\n",
        "\n",
        "First sentence has 436 words (after removing stopwords).\n",
        "\n",
        "There are 2225 labels in the dataset.\n",
        "\n",
        "The first 5 labels are ['tech', 'business', 'sport', 'sport', 'entertainment']\n",
        "```"
      ]
    },
    {
      "cell_type": "markdown",
      "id": "polished-eagle",
      "metadata": {
        "id": "polished-eagle"
      },
      "source": [
        "## Training - Validation Split\n",
        "\n",
        "Now you will code the `train_val_split()` function. Given the training split size, this function will split the full lists of sentences and labels into training and validation sentences and labels.\n",
        "\n",
        "**IMPORTANT NOTE: For all graded functions in this assignment, please do not use the global variables (e.g. `TRAINING_SPLIT`) in your solution. Instead, you should use the function parameters defined in the function header (e.g. `training_split`).**"
      ]
    },
    {
      "cell_type": "code",
      "execution_count": 61,
      "id": "small-violence",
      "metadata": {
        "tags": [
          "graded"
        ],
        "id": "small-violence"
      },
      "outputs": [],
      "source": [
        "# GRADED FUNCTIONS: train_val_split\n",
        "def train_val_split(sentences, labels, training_split):\n",
        "    \"\"\"\n",
        "    Splits the dataset into training and validation sets\n",
        "\n",
        "    Args:\n",
        "        sentences (list of string): lower-cased sentences without stopwords\n",
        "        labels (list of string): list of labels\n",
        "        training split (float): proportion of the dataset to convert to include in the train set\n",
        "\n",
        "    Returns:\n",
        "        train_sentences, validation_sentences, train_labels, validation_labels - lists containing the data splits\n",
        "    \"\"\"\n",
        "\n",
        "    ### START CODE HERE\n",
        "\n",
        "    # Compute the number of sentences that will be used for training (should be an integer)\n",
        "    train_size = int(training_split * len(sentences))\n",
        "\n",
        "    # Split the sentences and labels into train/validation splits\n",
        "    train_sentences = sentences[:train_size]\n",
        "    train_labels = labels[:train_size]\n",
        "\n",
        "    validation_sentences = sentences[train_size:]\n",
        "    validation_labels = labels[train_size:]\n",
        "\n",
        "    ### END CODE HERE\n",
        "\n",
        "    return train_sentences, validation_sentences, train_labels, validation_labels"
      ]
    },
    {
      "cell_type": "code",
      "execution_count": 62,
      "id": "circular-venue",
      "metadata": {
        "tags": [
          "graded"
        ],
        "id": "circular-venue",
        "colab": {
          "base_uri": "https://localhost:8080/"
        },
        "outputId": "29f488e4-5b81-43ff-ec01-eb18b845a914"
      },
      "outputs": [
        {
          "output_type": "stream",
          "name": "stdout",
          "text": [
            "There are 1780 sentences for training.\n",
            "\n",
            "There are 1780 labels for training.\n",
            "\n",
            "There are 445 sentences for validation.\n",
            "\n",
            "There are 445 labels for validation.\n"
          ]
        }
      ],
      "source": [
        "# Test your function\n",
        "train_sentences, val_sentences, train_labels, val_labels = train_val_split(sentences, labels, TRAINING_SPLIT)\n",
        "\n",
        "print(f\"There are {len(train_sentences)} sentences for training.\\n\")\n",
        "print(f\"There are {len(train_labels)} labels for training.\\n\")\n",
        "print(f\"There are {len(val_sentences)} sentences for validation.\\n\")\n",
        "print(f\"There are {len(val_labels)} labels for validation.\")"
      ]
    },
    {
      "cell_type": "markdown",
      "id": "recovered-graph",
      "metadata": {
        "id": "recovered-graph"
      },
      "source": [
        "***Expected Output:***\n",
        "\n",
        "```\n",
        "There are 1780 sentences for training.\n",
        "\n",
        "There are 1780 labels for training.\n",
        "\n",
        "There are 445 sentences for validation.\n",
        "\n",
        "There are 445 labels for validation.\n",
        "```"
      ]
    },
    {
      "cell_type": "markdown",
      "id": "crude-mozambique",
      "metadata": {
        "id": "crude-mozambique"
      },
      "source": [
        "## Tokenization - Sequences and padding\n",
        "\n",
        "Now that you have sets for training and validation it is time for you to begin the tokenization process.\n",
        "\n",
        "Begin by completing the `fit_tokenizer` function below. This function should return a [Tokenizer](https://www.tensorflow.org/api_docs/python/tf/keras/preprocessing/text/Tokenizer) that has been fitted to the training sentences."
      ]
    },
    {
      "cell_type": "code",
      "execution_count": 63,
      "id": "recreational-prince",
      "metadata": {
        "lines_to_next_cell": 2,
        "tags": [
          "graded"
        ],
        "id": "recreational-prince"
      },
      "outputs": [],
      "source": [
        "# GRADED FUNCTION: fit_tokenizer\n",
        "def fit_tokenizer(train_sentences, num_words, oov_token):\n",
        "    \"\"\"\n",
        "    Instantiates the Tokenizer class on the training sentences\n",
        "\n",
        "    Args:\n",
        "        train_sentences (list of string): lower-cased sentences without stopwords to be used for training\n",
        "        num_words (int) - number of words to keep when tokenizing\n",
        "        oov_token (string) - symbol for the out-of-vocabulary token\n",
        "\n",
        "    Returns:\n",
        "        tokenizer (object): an instance of the Tokenizer class containing the word-index dictionary\n",
        "    \"\"\"\n",
        "\n",
        "    ### START CODE HERE\n",
        "\n",
        "    # Instantiate the Tokenizer class, passing in the correct values for num_words and oov_token\n",
        "    tokenizer = Tokenizer(num_words=num_words, oov_token=oov_token)\n",
        "\n",
        "    # Fit the tokenizer to the training sentences\n",
        "    tokenizer.fit_on_texts(train_sentences)\n",
        "\n",
        "\n",
        "    ### END CODE HERE\n",
        "\n",
        "    return tokenizer"
      ]
    },
    {
      "cell_type": "code",
      "execution_count": 64,
      "id": "great-trading",
      "metadata": {
        "tags": [
          "graded"
        ],
        "id": "great-trading",
        "colab": {
          "base_uri": "https://localhost:8080/"
        },
        "outputId": "72181ec8-72d7-4664-ef5d-7c6f380914b1"
      },
      "outputs": [
        {
          "output_type": "stream",
          "name": "stdout",
          "text": [
            "Vocabulary contains 27285 words\n",
            "\n",
            "<OOV> token included in vocabulary\n"
          ]
        }
      ],
      "source": [
        "# Test your function\n",
        "tokenizer = fit_tokenizer(train_sentences, NUM_WORDS, OOV_TOKEN)\n",
        "word_index = tokenizer.word_index\n",
        "\n",
        "print(f\"Vocabulary contains {len(word_index)} words\\n\")\n",
        "print(\"<OOV> token included in vocabulary\" if \"<OOV>\" in word_index else \"<OOV> token NOT included in vocabulary\")"
      ]
    },
    {
      "cell_type": "markdown",
      "id": "pressing-recipe",
      "metadata": {
        "id": "pressing-recipe"
      },
      "source": [
        "***Expected Output:***\n",
        "\n",
        "```\n",
        "Vocabulary contains 27285 words\n",
        "\n",
        "<OOV> token included in vocabulary\n",
        "```"
      ]
    },
    {
      "cell_type": "markdown",
      "id": "sweet-sentence",
      "metadata": {
        "id": "sweet-sentence"
      },
      "source": [
        "Now that the tokenizer has been fitted to the training data, you need a function that will convert each text data point into its padded sequence representation, for this complete the `seq_and_pad` function below:"
      ]
    },
    {
      "cell_type": "code",
      "execution_count": 65,
      "id": "fourth-knight",
      "metadata": {
        "tags": [
          "graded"
        ],
        "id": "fourth-knight"
      },
      "outputs": [],
      "source": [
        "# GRADED FUNCTION: seq_and_pad\n",
        "def seq_and_pad(sentences, tokenizer, padding, maxlen):\n",
        "    \"\"\"\n",
        "    Generates an array of token sequences and pads them to the same length\n",
        "\n",
        "    Args:\n",
        "        sentences (list of string): list of sentences to tokenize and pad\n",
        "        tokenizer (object): Tokenizer instance containing the word-index dictionary\n",
        "        padding (string): type of padding to use\n",
        "        maxlen (int): maximum length of the token sequence\n",
        "\n",
        "    Returns:\n",
        "        padded_sequences (array of int): tokenized sentences padded to the same length\n",
        "    \"\"\"\n",
        "    ### START CODE HERE\n",
        "\n",
        "    # Convert sentences to sequences\n",
        "    sequences = tokenizer.texts_to_sequences(sentences)\n",
        "\n",
        "    # Pad the sequences using the correct padding and maxlen\n",
        "    padded_sequences = pad_sequences(sequences, padding=padding, maxlen=maxlen)\n",
        "\n",
        "    ### END CODE HERE\n",
        "\n",
        "    return padded_sequences"
      ]
    },
    {
      "cell_type": "code",
      "execution_count": 66,
      "id": "separate-onion",
      "metadata": {
        "tags": [
          "graded"
        ],
        "id": "separate-onion",
        "colab": {
          "base_uri": "https://localhost:8080/"
        },
        "outputId": "91e1ac63-a3bd-4c6a-b133-e880d5b944df"
      },
      "outputs": [
        {
          "output_type": "stream",
          "name": "stdout",
          "text": [
            "Padded training sequences have shape: (1780, 120)\n",
            "\n",
            "Padded validation sequences have shape: (445, 120)\n"
          ]
        }
      ],
      "source": [
        "\n",
        "# Test your function\n",
        "train_padded_seq = seq_and_pad(train_sentences, tokenizer, PADDING, MAXLEN)\n",
        "val_padded_seq = seq_and_pad(val_sentences, tokenizer, PADDING, MAXLEN)\n",
        "\n",
        "print(f\"Padded training sequences have shape: {train_padded_seq.shape}\\n\")\n",
        "print(f\"Padded validation sequences have shape: {val_padded_seq.shape}\")"
      ]
    },
    {
      "cell_type": "markdown",
      "id": "sufficient-locator",
      "metadata": {
        "id": "sufficient-locator"
      },
      "source": [
        "***Expected Output:***\n",
        "\n",
        "```\n",
        "Padded training sequences have shape: (1780, 120)\n",
        "\n",
        "Padded validation sequences have shape: (445, 120)\n",
        "```"
      ]
    },
    {
      "cell_type": "markdown",
      "id": "familiar-reform",
      "metadata": {
        "id": "familiar-reform"
      },
      "source": [
        "Finally you need to tokenize the labels. For this complete the `tokenize_labels` function below.\n",
        "\n",
        "A couple of things to note:\n",
        "- You should fit the tokenizer to all the labels to avoid the case of a particular label not being present in the validation set. Since you are dealing with labels there should never be an OOV label.\n",
        "\n",
        "\n",
        "- In the previous function you used the `pad_sequences` function which returns numpy arrays. Here you will not be using it since you don't need to pad the labels so you need to make the conversion to numpy arrays yourself.\n",
        "\n",
        "\n",
        "- The argument `split_labels` refers to the labels of a particular split (train or validation). This is because the function should work independently of the split being used.\n",
        "\n",
        "\n",
        "- Using Keras' Tokenizer yields values that start at 1 rather than at 0. This will present a problem when training since Keras usually expects the labels to start at 0. To work around this issue you could use an extra neuron in the last layer of your model. However this approach is rather hacky and not very clear. Instead you will substract 1 from every value of the labels that the function returns. Remember that when using numpy arrays you can simply do something like `np.array - 1` to accomplish this since numpy allows for vectorized operations."
      ]
    },
    {
      "cell_type": "code",
      "execution_count": 67,
      "id": "active-objective",
      "metadata": {
        "id": "active-objective",
        "lines_to_next_cell": 2,
        "tags": [
          "graded"
        ]
      },
      "outputs": [],
      "source": [
        "# GRADED FUNCTION: tokenize_labels\n",
        "def tokenize_labels(all_labels, split_labels):\n",
        "    \"\"\"\n",
        "    Tokenizes the labels\n",
        "\n",
        "    Args:\n",
        "        all_labels (list of string): labels to generate the word-index from\n",
        "        split_labels (list of string): labels to tokenize\n",
        "\n",
        "    Returns:\n",
        "        label_seq_np (array of int): tokenized labels\n",
        "    \"\"\"\n",
        "    ### START CODE HERE\n",
        "\n",
        "    # Instantiate the Tokenizer (no additional arguments needed)\n",
        "    label_tokenizer = Tokenizer()\n",
        "\n",
        "    # Fit the tokenizer on all the labels\n",
        "    label_tokenizer.fit_on_texts(all_labels)\n",
        "\n",
        "    # Convert labels to sequences\n",
        "    label_seq = label_tokenizer.texts_to_sequences(split_labels)\n",
        "\n",
        "    # Convert sequences to a numpy array. Don't forget to substact 1 from every entry in the array!\n",
        "    label_seq_np = np.array(label_seq) -1\n",
        "\n",
        "    ### END CODE HERE\n",
        "\n",
        "    return label_seq_np"
      ]
    },
    {
      "cell_type": "code",
      "execution_count": 71,
      "id": "numerical-certificate",
      "metadata": {
        "tags": [
          "graded"
        ],
        "id": "numerical-certificate",
        "colab": {
          "base_uri": "https://localhost:8080/"
        },
        "outputId": "7da7d225-de48-4946-b6f2-80b2d581249e"
      },
      "outputs": [
        {
          "output_type": "stream",
          "name": "stdout",
          "text": [
            "First 5 labels of the training set should look like this:\n",
            "[[3]\n",
            " [1]\n",
            " [0]\n",
            " [0]\n",
            " [4]]\n",
            "\n",
            "First 5 labels of the validation set should look like this:\n",
            "[[4]\n",
            " [3]\n",
            " [2]\n",
            " [0]\n",
            " [0]]\n",
            "\n",
            "Tokenized labels of the training set have shape: (1780, 1)\n",
            "\n",
            "Tokenized labels of the validation set have shape: (445, 1)\n",
            "\n"
          ]
        }
      ],
      "source": [
        "# Test your function\n",
        "train_label_seq = tokenize_labels(labels, train_labels)\n",
        "val_label_seq = tokenize_labels(labels, val_labels)\n",
        "\n",
        "print(f\"First 5 labels of the training set should look like this:\\n{train_label_seq[:5]}\\n\")\n",
        "print(f\"First 5 labels of the validation set should look like this:\\n{val_label_seq[:5]}\\n\")\n",
        "print(f\"Tokenized labels of the training set have shape: {train_label_seq.shape}\\n\")\n",
        "print(f\"Tokenized labels of the validation set have shape: {val_label_seq.shape}\\n\")\n"
      ]
    },
    {
      "cell_type": "markdown",
      "id": "lasting-rescue",
      "metadata": {
        "id": "lasting-rescue"
      },
      "source": [
        "***Expected Output:***\n",
        "\n",
        "```\n",
        "First 5 labels of the training set should look like this:\n",
        "[[3]\n",
        " [1]\n",
        " [0]\n",
        " [0]\n",
        " [4]]\n",
        "\n",
        "First 5 labels of the validation set should look like this:\n",
        "[[4]\n",
        " [3]\n",
        " [2]\n",
        " [0]\n",
        " [0]]\n",
        "\n",
        "Tokenized labels of the training set have shape: (1780, 1)\n",
        "\n",
        "Tokenized labels of the validation set have shape: (445, 1)\n",
        "```"
      ]
    },
    {
      "cell_type": "markdown",
      "id": "devoted-helen",
      "metadata": {
        "id": "devoted-helen"
      },
      "source": [
        "## Selecting the model for text classification\n",
        "\n",
        "Now that the data is ready to be fed a Neural Network it is time for you to define the model that will classify each text as being part of a certain category.\n",
        "\n",
        "For this complete the `create_model` below.\n",
        "\n",
        "A couple of things to keep in mind:\n",
        "\n",
        "- Notice that this function has three parameters, all of which are meant to be passed to an [Embedding](https://www.tensorflow.org/api_docs/python/tf/keras/layers/Embedding) layer, which is what you will probably use as a first layer for your model.\n",
        "\n",
        "\n",
        "- The last layer should be a Dense layer with 5 units (since there are 5 categories) with a softmax activation.\n",
        "\n",
        "\n",
        "- You should also compile your model using an appropiate loss function and optimizer.\n",
        "\n",
        "\n",
        "- You can use any architecture you want but keep in mind that this problem doesn't need many layers to be solved successfully. You don't need any layers beside Embedding, [GlobalAveragePooling1D](https://www.tensorflow.org/api_docs/python/tf/keras/layers/GlobalAveragePooling1D) and Dense layers but feel free to try out different architectures.\n",
        "\n",
        "\n",
        "- **To pass this graded function your model should reach at least a 95% training accuracy and a 90% validation accuracy in under 30 epochs.**"
      ]
    },
    {
      "cell_type": "code",
      "execution_count": 74,
      "id": "little-bahrain",
      "metadata": {
        "id": "little-bahrain",
        "tags": [
          "graded"
        ]
      },
      "outputs": [],
      "source": [
        "# GRADED FUNCTION: create_model\n",
        "def create_model(num_words, embedding_dim, maxlen):\n",
        "    \"\"\"\n",
        "    Creates a text classifier model\n",
        "\n",
        "    Args:\n",
        "        num_words (int): size of the vocabulary for the Embedding layer input\n",
        "        embedding_dim (int): dimensionality of the Embedding layer output\n",
        "        maxlen (int): length of the input sequences\n",
        "\n",
        "    Returns:\n",
        "        model (tf.keras Model): the text classifier model\n",
        "    \"\"\"\n",
        "\n",
        "    tf.random.set_seed(123)\n",
        "\n",
        "    ### START CODE HERE\n",
        "\n",
        "    model = tf.keras.Sequential([\n",
        "        tf.keras.layers.Embedding(num_words, embedding_dim, input_length=maxlen),\n",
        "        tf.keras.layers.GlobalAveragePooling1D(),\n",
        "        tf.keras.layers.Dense(24, activation='relu'),\n",
        "        tf.keras.layers.Dense(5, activation='softmax')\n",
        "    ])\n",
        "\n",
        "    model.compile(loss='sparse_categorical_crossentropy',\n",
        "                  optimizer='adam',\n",
        "                  metrics=['accuracy'])\n",
        "\n",
        "    ### END CODE HERE\n",
        "\n",
        "    return model\n"
      ]
    },
    {
      "cell_type": "code",
      "execution_count": 75,
      "id": "resident-productivity",
      "metadata": {
        "tags": [],
        "id": "resident-productivity",
        "colab": {
          "base_uri": "https://localhost:8080/"
        },
        "outputId": "fadde7a0-60bd-4540-95ec-158959d5be57"
      },
      "outputs": [
        {
          "output_type": "stream",
          "name": "stdout",
          "text": [
            "Epoch 1/30\n",
            "56/56 [==============================] - 2s 11ms/step - loss: 1.6023 - accuracy: 0.3258 - val_loss: 1.5907 - val_accuracy: 0.4225\n",
            "Epoch 2/30\n",
            "56/56 [==============================] - 0s 6ms/step - loss: 1.5699 - accuracy: 0.3961 - val_loss: 1.5434 - val_accuracy: 0.5011\n",
            "Epoch 3/30\n",
            "56/56 [==============================] - 0s 6ms/step - loss: 1.4873 - accuracy: 0.5747 - val_loss: 1.4312 - val_accuracy: 0.6382\n",
            "Epoch 4/30\n",
            "56/56 [==============================] - 0s 6ms/step - loss: 1.3178 - accuracy: 0.7449 - val_loss: 1.2308 - val_accuracy: 0.7888\n",
            "Epoch 5/30\n",
            "56/56 [==============================] - 0s 5ms/step - loss: 1.0696 - accuracy: 0.8545 - val_loss: 0.9884 - val_accuracy: 0.8517\n",
            "Epoch 6/30\n",
            "56/56 [==============================] - 0s 4ms/step - loss: 0.8223 - accuracy: 0.8972 - val_loss: 0.7826 - val_accuracy: 0.8764\n",
            "Epoch 7/30\n",
            "56/56 [==============================] - 0s 4ms/step - loss: 0.6306 - accuracy: 0.9124 - val_loss: 0.6344 - val_accuracy: 0.8921\n",
            "Epoch 8/30\n",
            "56/56 [==============================] - 0s 4ms/step - loss: 0.4948 - accuracy: 0.9270 - val_loss: 0.5307 - val_accuracy: 0.8989\n",
            "Epoch 9/30\n",
            "56/56 [==============================] - 0s 5ms/step - loss: 0.3991 - accuracy: 0.9337 - val_loss: 0.4582 - val_accuracy: 0.8989\n",
            "Epoch 10/30\n",
            "56/56 [==============================] - 0s 4ms/step - loss: 0.3252 - accuracy: 0.9455 - val_loss: 0.3992 - val_accuracy: 0.9011\n",
            "Epoch 11/30\n",
            "56/56 [==============================] - 0s 4ms/step - loss: 0.2705 - accuracy: 0.9534 - val_loss: 0.3596 - val_accuracy: 0.9124\n",
            "Epoch 12/30\n",
            "56/56 [==============================] - 0s 4ms/step - loss: 0.2285 - accuracy: 0.9601 - val_loss: 0.3291 - val_accuracy: 0.9146\n",
            "Epoch 13/30\n",
            "56/56 [==============================] - 0s 4ms/step - loss: 0.1958 - accuracy: 0.9657 - val_loss: 0.3065 - val_accuracy: 0.9236\n",
            "Epoch 14/30\n",
            "56/56 [==============================] - 0s 4ms/step - loss: 0.1690 - accuracy: 0.9708 - val_loss: 0.2852 - val_accuracy: 0.9281\n",
            "Epoch 15/30\n",
            "56/56 [==============================] - 0s 5ms/step - loss: 0.1467 - accuracy: 0.9781 - val_loss: 0.2700 - val_accuracy: 0.9303\n",
            "Epoch 16/30\n",
            "56/56 [==============================] - 0s 5ms/step - loss: 0.1282 - accuracy: 0.9826 - val_loss: 0.2567 - val_accuracy: 0.9303\n",
            "Epoch 17/30\n",
            "56/56 [==============================] - 0s 5ms/step - loss: 0.1118 - accuracy: 0.9854 - val_loss: 0.2471 - val_accuracy: 0.9303\n",
            "Epoch 18/30\n",
            "56/56 [==============================] - 0s 4ms/step - loss: 0.0987 - accuracy: 0.9871 - val_loss: 0.2387 - val_accuracy: 0.9326\n",
            "Epoch 19/30\n",
            "56/56 [==============================] - 0s 5ms/step - loss: 0.0878 - accuracy: 0.9888 - val_loss: 0.2316 - val_accuracy: 0.9326\n",
            "Epoch 20/30\n",
            "56/56 [==============================] - 0s 5ms/step - loss: 0.0770 - accuracy: 0.9910 - val_loss: 0.2248 - val_accuracy: 0.9303\n",
            "Epoch 21/30\n",
            "56/56 [==============================] - 0s 4ms/step - loss: 0.0692 - accuracy: 0.9910 - val_loss: 0.2222 - val_accuracy: 0.9326\n",
            "Epoch 22/30\n",
            "56/56 [==============================] - 0s 4ms/step - loss: 0.0611 - accuracy: 0.9955 - val_loss: 0.2171 - val_accuracy: 0.9371\n",
            "Epoch 23/30\n",
            "56/56 [==============================] - 0s 4ms/step - loss: 0.0549 - accuracy: 0.9949 - val_loss: 0.2124 - val_accuracy: 0.9326\n",
            "Epoch 24/30\n",
            "56/56 [==============================] - 0s 5ms/step - loss: 0.0492 - accuracy: 0.9961 - val_loss: 0.2103 - val_accuracy: 0.9393\n",
            "Epoch 25/30\n",
            "56/56 [==============================] - 0s 4ms/step - loss: 0.0443 - accuracy: 0.9978 - val_loss: 0.2069 - val_accuracy: 0.9393\n",
            "Epoch 26/30\n",
            "56/56 [==============================] - 0s 5ms/step - loss: 0.0398 - accuracy: 0.9983 - val_loss: 0.2044 - val_accuracy: 0.9416\n",
            "Epoch 27/30\n",
            "56/56 [==============================] - 0s 4ms/step - loss: 0.0360 - accuracy: 0.9983 - val_loss: 0.2043 - val_accuracy: 0.9371\n",
            "Epoch 28/30\n",
            "56/56 [==============================] - 0s 4ms/step - loss: 0.0326 - accuracy: 0.9983 - val_loss: 0.2013 - val_accuracy: 0.9393\n",
            "Epoch 29/30\n",
            "56/56 [==============================] - 0s 5ms/step - loss: 0.0295 - accuracy: 0.9983 - val_loss: 0.2000 - val_accuracy: 0.9416\n",
            "Epoch 30/30\n",
            "56/56 [==============================] - 0s 3ms/step - loss: 0.0267 - accuracy: 0.9989 - val_loss: 0.1979 - val_accuracy: 0.9416\n"
          ]
        }
      ],
      "source": [
        "model = create_model(NUM_WORDS, EMBEDDING_DIM, MAXLEN)\n",
        "\n",
        "history = model.fit(train_padded_seq, train_label_seq, epochs=30, validation_data=(val_padded_seq, val_label_seq))"
      ]
    },
    {
      "cell_type": "markdown",
      "id": "three-pension",
      "metadata": {
        "id": "three-pension"
      },
      "source": [
        "Once training has finished you can run the following cell to check the training and validation accuracy achieved at the end of each epoch.\n",
        "\n",
        "**Remember that to pass this assignment your model should achieve a training accuracy of at least 95% and a validation accuracy of at least 90%. If your model didn't achieve these thresholds, try training again with a different model architecture.**"
      ]
    },
    {
      "cell_type": "code",
      "execution_count": 76,
      "id": "rural-sheffield",
      "metadata": {
        "tags": [],
        "id": "rural-sheffield",
        "colab": {
          "base_uri": "https://localhost:8080/",
          "height": 881
        },
        "outputId": "94d13260-8e3a-4a77-96d9-2093761a8271"
      },
      "outputs": [
        {
          "output_type": "display_data",
          "data": {
            "text/plain": [
              "<Figure size 640x480 with 1 Axes>"
            ],
            "image/png": "[encoded data removed]"
          },
          "metadata": {}
        },
        {
          "output_type": "display_data",
          "data": {
            "text/plain": [
              "<Figure size 640x480 with 1 Axes>"
            ],
            "image/png": "[encoded data removed]"
          },
          "metadata": {}
        }
      ],
      "source": [
        "def plot_graphs(history, metric):\n",
        "    plt.plot(history.history[metric])\n",
        "    plt.plot(history.history[f'val_{metric}'])\n",
        "    plt.xlabel(\"Epochs\")\n",
        "    plt.ylabel(metric)\n",
        "    plt.legend([metric, f'val_{metric}'])\n",
        "    plt.show()\n",
        "\n",
        "plot_graphs(history, \"accuracy\")\n",
        "plot_graphs(history, \"loss\")"
      ]
    },
    {
      "cell_type": "markdown",
      "id": "material-breast",
      "metadata": {
        "id": "material-breast"
      },
      "source": [
        "**If your model passes the previously mentioned thresholds be sure to save your notebook and submit for grading before jumping onto the next section.**"
      ]
    },
    {
      "cell_type": "markdown",
      "id": "primary-tennessee",
      "metadata": {
        "id": "primary-tennessee"
      },
      "source": [
        "## Optional Exercise - Visualizing 3D Vectors\n",
        "\n",
        "As you saw on the lecture you can visualize the vectors associated with each word in the training set in a 3D space.\n",
        "\n",
        "For this run the following cells and visit [Tensorflow's Embedding Projector](https://projector.tensorflow.org/)."
      ]
    },
    {
      "cell_type": "code",
      "execution_count": 77,
      "id": "awful-geneva",
      "metadata": {
        "id": "awful-geneva",
        "tags": [],
        "colab": {
          "base_uri": "https://localhost:8080/"
        },
        "outputId": "56481e39-c6db-4659-993a-53ddc847a6c3"
      },
      "outputs": [
        {
          "output_type": "stream",
          "name": "stdout",
          "text": [
            "Weights of embedding layer have shape: (1000, 16)\n"
          ]
        }
      ],
      "source": [
        "# Reverse word index\n",
        "reverse_word_index = dict([(value, key) for (key, value) in word_index.items()])\n",
        "\n",
        "# Save the embedding layer\n",
        "e = model.layers[0]\n",
        "\n",
        "# Save the weights of the embedding layer\n",
        "weights = e.get_weights()[0]\n",
        "print(f\"Weights of embedding layer have shape: {weights.shape}\")"
      ]
    },
    {
      "cell_type": "markdown",
      "id": "enhanced-updating",
      "metadata": {
        "id": "enhanced-updating"
      },
      "source": [
        "***Expected Output:***\n",
        "\n",
        "```\n",
        "Weights of embedding layer have shape: (1000, 16)\n",
        "\n",
        "The above is true if global variables are not modified.\n",
        "Notice that this shape will always be (NUM_WORDS, EMBEDDING_DIM).\n",
        "\n",
        "```"
      ]
    },
    {
      "cell_type": "markdown",
      "id": "dental-outside",
      "metadata": {
        "id": "dental-outside"
      },
      "source": [
        "Now run the following cell to generate the `vecs.tsv` and `meta.tsv` files that you will upload to the embedding projector."
      ]
    },
    {
      "cell_type": "code",
      "execution_count": 78,
      "id": "dominican-usage",
      "metadata": {
        "id": "dominican-usage",
        "tags": []
      },
      "outputs": [],
      "source": [
        "# Generate files for embedding visualization\n",
        "out_v = io.open('vecs.tsv', 'w', encoding='utf-8')\n",
        "out_m = io.open('meta.tsv', 'w', encoding='utf-8')\n",
        "for word_num in range(1, NUM_WORDS):\n",
        "    word = reverse_word_index[word_num]\n",
        "    embeddings = weights[word_num]\n",
        "    out_m.write(word + \"\\n\")\n",
        "    out_v.write('\\t'.join([str(x) for x in embeddings]) + \"\\n\")\n",
        "out_v.close()\n",
        "out_m.close()"
      ]
    },
    {
      "cell_type": "markdown",
      "id": "further-sunset",
      "metadata": {
        "id": "further-sunset"
      },
      "source": [
        "Before downloading these files be sure to having already submitted your assignment.\n",
        "\n",
        "\n",
        "By running the previous cell, these files are placed within your filesystem. To download them, click on the `Jupyter` logo on the upper-left side of the screen. This will take you to the Jupyter filesystem and there you can download the files by selecting them and clicking on the `Download` button."
      ]
    },
    {
      "cell_type": "markdown",
      "id": "sudden-investigator",
      "metadata": {
        "id": "sudden-investigator"
      },
      "source": [
        "**Congratulations on finishing this week's assignment!**\n",
        "\n",
        "You have successfully implemented a neural network capable of classifying text and also learned about embeddings and tokenization along the way!\n",
        "\n",
        "**Keep it up!**"
      ]
    }
  ],
  "metadata": {
    "dlai_version": "1.2.0",
    "kernelspec": {
      "display_name": "Python 3",
      "language": "python",
      "name": "python3"
    },
    "language_info": {
      "codemirror_mode": {
        "name": "ipython",
        "version": 3
      },
      "file_extension": ".py",
      "mimetype": "text/x-python",
      "name": "python",
      "nbconvert_exporter": "python",
      "pygments_lexer": "ipython3",
      "version": "3.8.8"
    },
    "colab": {
      "provenance": []
    }
  },
  "nbformat": 4,
  "nbformat_minor": 5
}