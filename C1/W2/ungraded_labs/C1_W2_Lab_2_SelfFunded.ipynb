{
 "cells": [
  {
   "cell_type": "markdown",
   "id": "7d123043",
   "metadata": {
    "id": "vBNo9JrZIYG6"
   },
   "source": [
    "# Ungraded Lab: Using Callbacks to Control Training\n",
    "\n",
    "In this lab, you will use the [Callbacks API](https://keras.io/api/callbacks/) to stop training when a specified metric is met. This is a useful feature so you won't need to complete all epochs when this threshold is reached. For example, if you set 1000 epochs and your desired accuracy is already reached at epoch 200, then the training will automatically stop. Let's see how this is implemented in the next sections.\n"
   ]
  },
  {
   "cell_type": "code",
   "execution_count": 19,
   "id": "91bfa83c",
   "metadata": {},
   "outputs": [],
   "source": [
    "# process the data\n",
    "\n",
    "import tensorflow as tf\n",
    "\n",
    "fmnist = tf.keras.datasets.fashion_mnist\n",
    "\n",
    "(x_train, y_train), (x_test, y_test) = fmnist.load_data()\n",
    "\n",
    "# normalize data\n",
    "x_train, x_test = x_train/255.0, x_test/255.0"
   ]
  },
  {
   "cell_type": "code",
   "execution_count": 20,
   "id": "602651f6",
   "metadata": {},
   "outputs": [],
   "source": [
    "class MyCallback(tf.keras.callbacks.Callback):\n",
    "    def on_epoch_end(self, epoch, logs={}):\n",
    "        \n",
    "        if(logs.get('loss') < 0.4):\n",
    "            print(\"\\nLoss is lower than 0.4 so cancelling training!\")\n",
    "            self.model.stop_training = True\n",
    "            \n",
    "callbacks = MyCallback()"
   ]
  },
  {
   "cell_type": "code",
   "execution_count": 21,
   "id": "a011ba28",
   "metadata": {},
   "outputs": [],
   "source": [
    "# create model\n",
    "model = tf.keras.Sequential([\n",
    "    tf.keras.layers.Flatten(input_shape=(28,28)),\n",
    "    tf.keras.layers.Dense(512, activation=tf.nn.relu),\n",
    "    tf.keras.layers.Dense(10, activation=tf.nn.softmax)\n",
    "])\n",
    "\n",
    "model.compile(\n",
    "    optimizer=tf.keras.optimizers.Adam(),\n",
    "    loss='sparse_categorical_crossentropy',\n",
    "    metrics=['accuracy']\n",
    ")"
   ]
  },
  {
   "cell_type": "code",
   "execution_count": 22,
   "id": "cb5201c1",
   "metadata": {},
   "outputs": [
    {
     "name": "stdout",
     "output_type": "stream",
     "text": [
      "Epoch 1/10\n",
      "1875/1875 [==============================] - 6s 3ms/step - loss: 0.4771 - accuracy: 0.8308\n",
      "Epoch 2/10\n",
      "1868/1875 [============================>.] - ETA: 0s - loss: 0.3556 - accuracy: 0.8708\n",
      "Loss is lower than 0.4 so cancelling training!\n",
      "1875/1875 [==============================] - 8s 4ms/step - loss: 0.3556 - accuracy: 0.8708\n"
     ]
    },
    {
     "data": {
      "text/plain": [
       "<keras.callbacks.History at 0x202766ba190>"
      ]
     },
     "execution_count": 22,
     "metadata": {},
     "output_type": "execute_result"
    }
   ],
   "source": [
    "# use model\n",
    "model.fit(x_train, y_train, epochs=10, callbacks=callbacks)"
   ]
  },
  {
   "cell_type": "code",
   "execution_count": null,
   "id": "1365e3cb",
   "metadata": {},
   "outputs": [],
   "source": []
  }
 ],
 "metadata": {
  "kernelspec": {
   "display_name": "Python 3 (ipykernel)",
   "language": "python",
   "name": "python3"
  },
  "language_info": {
   "codemirror_mode": {
    "name": "ipython",
    "version": 3
   },
   "file_extension": ".py",
   "mimetype": "text/x-python",
   "name": "python",
   "nbconvert_exporter": "python",
   "pygments_lexer": "ipython3",
   "version": "3.11.3"
  }
 },
 "nbformat": 4,
 "nbformat_minor": 5
}
