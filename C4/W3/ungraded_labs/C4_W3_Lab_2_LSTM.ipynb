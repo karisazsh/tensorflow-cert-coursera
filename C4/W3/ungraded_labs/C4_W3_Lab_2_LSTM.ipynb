{
  "cells": [
    {
      "cell_type": "markdown",
      "metadata": {
        "id": "VnhVuST2oADb"
      },
      "source": [
        "<a href=\"https://colab.research.google.com/github/https-deeplearning-ai/tensorflow-1-public/blob/main/C4/W3/ungraded_labs/C4_W3_Lab_2_LSTM.ipynb\" target=\"_parent\"><img src=\"https://colab.research.google.com/assets/colab-badge.svg\" alt=\"Open In Colab\"/></a>"
      ]
    },
    {
      "cell_type": "markdown",
      "metadata": {
        "id": "sV_nvXSQGJPK"
      },
      "source": [
        "# Ungraded Lab: Using a multi-layer LSTM for forecasting\n",
        "\n",
        "In this lab, you will use the same RNN architecure in the first lab but will instead stack [LSTM](https://www.tensorflow.org/api_docs/python/tf/keras/layers/LSTM) layers instead of `SimpleRNN`."
      ]
    },
    {
      "cell_type": "markdown",
      "metadata": {
        "id": "3IMbAWETGOWD"
      },
      "source": [
        "## Imports"
      ]
    },
    {
      "cell_type": "code",
      "execution_count": 2,
      "metadata": {
        "id": "BOjujz601HcS"
      },
      "outputs": [],
      "source": [
        "import tensorflow as tf\n",
        "import numpy as np\n",
        "import matplotlib.pyplot as plt"
      ]
    },
    {
      "cell_type": "markdown",
      "metadata": {
        "id": "kD7RQQ0xGQVH"
      },
      "source": [
        "## Utilities"
      ]
    },
    {
      "cell_type": "code",
      "execution_count": 3,
      "metadata": {
        "id": "Zswl7jRtGzkk"
      },
      "outputs": [],
      "source": [
        "def plot_series(time, series, format=\"-\", start=0, end=None):\n",
        "    \"\"\"\n",
        "    Visualizes time series data\n",
        "\n",
        "    Args:\n",
        "      time (array of int) - contains the time steps\n",
        "      series (array of int) - contains the measurements for each time step\n",
        "      format - line style when plotting the graph\n",
        "      start - first time step to plot\n",
        "      end - last time step to plot\n",
        "    \"\"\"\n",
        "\n",
        "    # Setup dimensions of the graph figure\n",
        "    plt.figure(figsize=(10, 6))\n",
        "\n",
        "    if type(series) is tuple:\n",
        "\n",
        "      for series_num in series:\n",
        "        # Plot the time series data\n",
        "        plt.plot(time[start:end], series_num[start:end], format)\n",
        "\n",
        "    else:\n",
        "      # Plot the time series data\n",
        "      plt.plot(time[start:end], series[start:end], format)\n",
        "\n",
        "    # Label the x-axis\n",
        "    plt.xlabel(\"Time\")\n",
        "\n",
        "    # Label the y-axis\n",
        "    plt.ylabel(\"Value\")\n",
        "\n",
        "    # Overlay a grid on the graph\n",
        "    plt.grid(True)\n",
        "\n",
        "    # Draw the graph on screen\n",
        "    plt.show()\n",
        "\n",
        "def trend(time, slope=0):\n",
        "    \"\"\"\n",
        "    Generates synthetic data that follows a straight line given a slope value.\n",
        "\n",
        "    Args:\n",
        "      time (array of int) - contains the time steps\n",
        "      slope (float) - determines the direction and steepness of the line\n",
        "\n",
        "    Returns:\n",
        "      series (array of float) - measurements that follow a straight line\n",
        "    \"\"\"\n",
        "\n",
        "    # Compute the linear series given the slope\n",
        "    series = slope * time\n",
        "\n",
        "    return series\n",
        "\n",
        "def seasonal_pattern(season_time):\n",
        "    \"\"\"\n",
        "    Just an arbitrary pattern, you can change it if you wish\n",
        "\n",
        "    Args:\n",
        "      season_time (array of float) - contains the measurements per time step\n",
        "\n",
        "    Returns:\n",
        "      data_pattern (array of float) -  contains revised measurement values according\n",
        "                                  to the defined pattern\n",
        "    \"\"\"\n",
        "\n",
        "    # Generate the values using an arbitrary pattern\n",
        "    data_pattern = np.where(season_time < 0.4,\n",
        "                    np.cos(season_time * 2 * np.pi),\n",
        "                    1 / np.exp(3 * season_time))\n",
        "\n",
        "    return data_pattern\n",
        "\n",
        "def seasonality(time, period, amplitude=1, phase=0):\n",
        "    \"\"\"\n",
        "    Repeats the same pattern at each period\n",
        "\n",
        "    Args:\n",
        "      time (array of int) - contains the time steps\n",
        "      period (int) - number of time steps before the pattern repeats\n",
        "      amplitude (int) - peak measured value in a period\n",
        "      phase (int) - number of time steps to shift the measured values\n",
        "\n",
        "    Returns:\n",
        "      data_pattern (array of float) - seasonal data scaled by the defined amplitude\n",
        "    \"\"\"\n",
        "\n",
        "    # Define the measured values per period\n",
        "    season_time = ((time + phase) % period) / period\n",
        "\n",
        "    # Generates the seasonal data scaled by the defined amplitude\n",
        "    data_pattern = amplitude * seasonal_pattern(season_time)\n",
        "\n",
        "    return data_pattern\n",
        "\n",
        "def noise(time, noise_level=1, seed=None):\n",
        "    \"\"\"Generates a normally distributed noisy signal\n",
        "\n",
        "    Args:\n",
        "      time (array of int) - contains the time steps\n",
        "      noise_level (float) - scaling factor for the generated signal\n",
        "      seed (int) - number generator seed for repeatability\n",
        "\n",
        "    Returns:\n",
        "      noise (array of float) - the noisy signal\n",
        "    \"\"\"\n",
        "\n",
        "    # Initialize the random number generator\n",
        "    rnd = np.random.RandomState(seed)\n",
        "\n",
        "    # Generate a random number for each time step and scale by the noise level\n",
        "    noise = rnd.randn(len(time)) * noise_level\n",
        "\n",
        "    return noise"
      ]
    },
    {
      "cell_type": "markdown",
      "metadata": {
        "id": "yxNyeFWjGSdj"
      },
      "source": [
        "## Generate the Synthetic Data"
      ]
    },
    {
      "cell_type": "code",
      "execution_count": 4,
      "metadata": {
        "id": "KYEUfDbdpHPm",
        "colab": {
          "base_uri": "https://localhost:8080/",
          "height": 542
        },
        "outputId": "c1828de8-370d-4874-faf1-170dec153917"
      },
      "outputs": [
        {
          "output_type": "display_data",
          "data": {
            "text/plain": [
              "<Figure size 1000x600 with 1 Axes>"
            ],
            "image/png": "[encoded data removed]"
          },
          "metadata": {}
        }
      ],
      "source": [
        "# Parameters\n",
        "time = np.arange(4 * 365 + 1, dtype=\"float32\")\n",
        "baseline = 10\n",
        "amplitude = 40\n",
        "slope = 0.05\n",
        "noise_level = 5\n",
        "\n",
        "# Create the series\n",
        "series = baseline + trend(time, slope) + seasonality(time, period=365, amplitude=amplitude)\n",
        "\n",
        "# Update with noise\n",
        "series += noise(time, noise_level, seed=42)\n",
        "\n",
        "# Plot the results\n",
        "plot_series(time, series)"
      ]
    },
    {
      "cell_type": "markdown",
      "metadata": {
        "id": "MYKCvv-eGWRc"
      },
      "source": [
        "## Split the Dataset"
      ]
    },
    {
      "cell_type": "code",
      "execution_count": 5,
      "metadata": {
        "id": "hpp0slenpKVD"
      },
      "outputs": [],
      "source": [
        "# Define the split time\n",
        "split_time = 1000\n",
        "\n",
        "# Get the train set\n",
        "time_train = time[:split_time]\n",
        "x_train = series[:split_time]\n",
        "\n",
        "# Get the validation set\n",
        "time_valid = time[split_time:]\n",
        "x_valid = series[split_time:]"
      ]
    },
    {
      "cell_type": "markdown",
      "metadata": {
        "id": "cktHz9aOGYtV"
      },
      "source": [
        "## Prepare Features and Labels"
      ]
    },
    {
      "cell_type": "code",
      "execution_count": 6,
      "metadata": {
        "id": "G_j_2_Mqwn7-"
      },
      "outputs": [],
      "source": [
        "# Parameters\n",
        "window_size = 20\n",
        "batch_size = 32\n",
        "shuffle_buffer_size = 1000"
      ]
    },
    {
      "cell_type": "code",
      "execution_count": 7,
      "metadata": {
        "id": "4sTTIOCbyShY"
      },
      "outputs": [],
      "source": [
        "def windowed_dataset(series, window_size, batch_size, shuffle_buffer):\n",
        "    \"\"\"Generates dataset windows\n",
        "\n",
        "    Args:\n",
        "      series (array of float) - contains the values of the time series\n",
        "      window_size (int) - the number of time steps to include in the feature\n",
        "      batch_size (int) - the batch size\n",
        "      shuffle_buffer(int) - buffer size to use for the shuffle method\n",
        "\n",
        "    Returns:\n",
        "      dataset (TF Dataset) - TF Dataset containing time windows\n",
        "    \"\"\"\n",
        "\n",
        "    # Generate a TF Dataset from the series values\n",
        "    dataset = tf.data.Dataset.from_tensor_slices(series)\n",
        "\n",
        "    # Window the data but only take those with the specified size\n",
        "    dataset = dataset.window(window_size + 1, shift=1, drop_remainder=True)\n",
        "\n",
        "    # Flatten the windows by putting its elements in a single batch\n",
        "    dataset = dataset.flat_map(lambda window: window.batch(window_size + 1))\n",
        "\n",
        "    # Create tuples with features and labels\n",
        "    dataset = dataset.map(lambda window: (window[:-1], window[-1]))\n",
        "\n",
        "    # Shuffle the windows\n",
        "    dataset = dataset.shuffle(shuffle_buffer)\n",
        "\n",
        "    # Create batches of windows\n",
        "    dataset = dataset.batch(batch_size).prefetch(1)\n",
        "\n",
        "    return dataset"
      ]
    },
    {
      "cell_type": "code",
      "execution_count": 8,
      "metadata": {
        "id": "vGj5-InSwtQQ"
      },
      "outputs": [],
      "source": [
        "# Generate the dataset windows\n",
        "dataset = windowed_dataset(x_train, window_size, batch_size, shuffle_buffer_size)"
      ]
    },
    {
      "cell_type": "markdown",
      "metadata": {
        "id": "p9-Ke8ZaGcjd"
      },
      "source": [
        "## Build the Model\n",
        "\n",
        "As mentioned, you will swap `SimpleRNN` for `LSTM` in this lab. It is also set as bidirectional below but feel free to revise later and see what results you get. LSTMs are much more complex in their internal architecture than simpleRNNs. It implements a cell state that allows it to remember sequences better than simple implementations. This added complexity results in a bigger set of parameters to train and you'll see that when you print the model summary below."
      ]
    },
    {
      "cell_type": "code",
      "execution_count": 9,
      "metadata": {
        "id": "A1Hl39rklkLm",
        "colab": {
          "base_uri": "https://localhost:8080/"
        },
        "outputId": "60e1a622-7760-4049-bf67-38508a4b0d2d"
      },
      "outputs": [
        {
          "output_type": "stream",
          "name": "stdout",
          "text": [
            "Model: \"sequential\"\n",
            "_________________________________________________________________\n",
            " Layer (type)                Output Shape              Param #   \n",
            "=================================================================\n",
            " lambda (Lambda)             (None, 20, 1)             0         \n",
            "                                                                 \n",
            " bidirectional (Bidirection  (None, 20, 64)            8704      \n",
            " al)                                                             \n",
            "                                                                 \n",
            " bidirectional_1 (Bidirecti  (None, 64)                24832     \n",
            " onal)                                                           \n",
            "                                                                 \n",
            " dense (Dense)               (None, 1)                 65        \n",
            "                                                                 \n",
            " lambda_1 (Lambda)           (None, 1)                 0         \n",
            "                                                                 \n",
            "=================================================================\n",
            "Total params: 33601 (131.25 KB)\n",
            "Trainable params: 33601 (131.25 KB)\n",
            "Non-trainable params: 0 (0.00 Byte)\n",
            "_________________________________________________________________\n"
          ]
        }
      ],
      "source": [
        "# Build the Model\n",
        "model_tune = tf.keras.models.Sequential([\n",
        "  tf.keras.layers.Lambda(lambda x: tf.expand_dims(x, axis=-1),\n",
        "                      input_shape=[window_size]),\n",
        "    tf.keras.layers.Bidirectional(tf.keras.layers.LSTM(32, return_sequences=True)),\n",
        "  tf.keras.layers.Bidirectional(tf.keras.layers.LSTM(32)),\n",
        "  tf.keras.layers.Dense(1),\n",
        "  tf.keras.layers.Lambda(lambda x: x * 100.0)\n",
        "])\n",
        "\n",
        "# Print the model summary\n",
        "model_tune.summary()"
      ]
    },
    {
      "cell_type": "markdown",
      "metadata": {
        "id": "FHaFblbwq0GV"
      },
      "source": [
        "## Tune the Learning Rate\n",
        "\n",
        "As usual, you will pick a learning rate by running the tuning code below."
      ]
    },
    {
      "cell_type": "code",
      "execution_count": 10,
      "metadata": {
        "id": "qE7al18qw48G",
        "colab": {
          "base_uri": "https://localhost:8080/"
        },
        "outputId": "6324e212-fba0-47de-c2c1-cbe592c1df4b"
      },
      "outputs": [
        {
          "output_type": "stream",
          "name": "stdout",
          "text": [
            "Epoch 1/100\n",
            "31/31 [==============================] - 12s 10ms/step - loss: 64.7565 - lr: 1.0000e-08\n",
            "Epoch 2/100\n",
            "31/31 [==============================] - 0s 10ms/step - loss: 63.8846 - lr: 1.1220e-08\n",
            "Epoch 3/100\n",
            "31/31 [==============================] - 0s 10ms/step - loss: 62.8278 - lr: 1.2589e-08\n",
            "Epoch 4/100\n",
            "31/31 [==============================] - 0s 10ms/step - loss: 61.6370 - lr: 1.4125e-08\n",
            "Epoch 5/100\n",
            "31/31 [==============================] - 0s 10ms/step - loss: 60.2947 - lr: 1.5849e-08\n",
            "Epoch 6/100\n",
            "31/31 [==============================] - 0s 9ms/step - loss: 58.7908 - lr: 1.7783e-08\n",
            "Epoch 7/100\n",
            "31/31 [==============================] - 0s 10ms/step - loss: 57.0904 - lr: 1.9953e-08\n",
            "Epoch 8/100\n",
            "31/31 [==============================] - 0s 9ms/step - loss: 55.1767 - lr: 2.2387e-08\n",
            "Epoch 9/100\n",
            "31/31 [==============================] - 0s 10ms/step - loss: 53.0091 - lr: 2.5119e-08\n",
            "Epoch 10/100\n",
            "31/31 [==============================] - 0s 10ms/step - loss: 50.5568 - lr: 2.8184e-08\n",
            "Epoch 11/100\n",
            "31/31 [==============================] - 0s 10ms/step - loss: 47.7812 - lr: 3.1623e-08\n",
            "Epoch 12/100\n",
            "31/31 [==============================] - 0s 10ms/step - loss: 44.6345 - lr: 3.5481e-08\n",
            "Epoch 13/100\n",
            "31/31 [==============================] - 0s 9ms/step - loss: 41.0542 - lr: 3.9811e-08\n",
            "Epoch 14/100\n",
            "31/31 [==============================] - 0s 10ms/step - loss: 37.0145 - lr: 4.4668e-08\n",
            "Epoch 15/100\n",
            "31/31 [==============================] - 0s 9ms/step - loss: 32.4658 - lr: 5.0119e-08\n",
            "Epoch 16/100\n",
            "31/31 [==============================] - 1s 15ms/step - loss: 27.4570 - lr: 5.6234e-08\n",
            "Epoch 17/100\n",
            "31/31 [==============================] - 1s 14ms/step - loss: 22.1143 - lr: 6.3096e-08\n",
            "Epoch 18/100\n",
            "31/31 [==============================] - 1s 13ms/step - loss: 16.7467 - lr: 7.0795e-08\n",
            "Epoch 19/100\n",
            "31/31 [==============================] - 1s 13ms/step - loss: 12.8024 - lr: 7.9433e-08\n",
            "Epoch 20/100\n",
            "31/31 [==============================] - 0s 10ms/step - loss: 10.9132 - lr: 8.9125e-08\n",
            "Epoch 21/100\n",
            "31/31 [==============================] - 0s 10ms/step - loss: 10.1958 - lr: 1.0000e-07\n",
            "Epoch 22/100\n",
            "31/31 [==============================] - 0s 10ms/step - loss: 9.8815 - lr: 1.1220e-07\n",
            "Epoch 23/100\n",
            "31/31 [==============================] - 0s 10ms/step - loss: 9.6238 - lr: 1.2589e-07\n",
            "Epoch 24/100\n",
            "31/31 [==============================] - 0s 10ms/step - loss: 9.3706 - lr: 1.4125e-07\n",
            "Epoch 25/100\n",
            "31/31 [==============================] - 0s 9ms/step - loss: 9.1162 - lr: 1.5849e-07\n",
            "Epoch 26/100\n",
            "31/31 [==============================] - 0s 9ms/step - loss: 8.8677 - lr: 1.7783e-07\n",
            "Epoch 27/100\n",
            "31/31 [==============================] - 0s 10ms/step - loss: 8.6319 - lr: 1.9953e-07\n",
            "Epoch 28/100\n",
            "31/31 [==============================] - 0s 10ms/step - loss: 8.4136 - lr: 2.2387e-07\n",
            "Epoch 29/100\n",
            "31/31 [==============================] - 0s 10ms/step - loss: 8.2071 - lr: 2.5119e-07\n",
            "Epoch 30/100\n",
            "31/31 [==============================] - 0s 9ms/step - loss: 8.0267 - lr: 2.8184e-07\n",
            "Epoch 31/100\n",
            "31/31 [==============================] - 0s 10ms/step - loss: 7.8592 - lr: 3.1623e-07\n",
            "Epoch 32/100\n",
            "31/31 [==============================] - 0s 10ms/step - loss: 7.7179 - lr: 3.5481e-07\n",
            "Epoch 33/100\n",
            "31/31 [==============================] - 0s 9ms/step - loss: 7.5855 - lr: 3.9811e-07\n",
            "Epoch 34/100\n",
            "31/31 [==============================] - 0s 9ms/step - loss: 7.4811 - lr: 4.4668e-07\n",
            "Epoch 35/100\n",
            "31/31 [==============================] - 0s 10ms/step - loss: 7.3715 - lr: 5.0119e-07\n",
            "Epoch 36/100\n",
            "31/31 [==============================] - 0s 10ms/step - loss: 7.2821 - lr: 5.6234e-07\n",
            "Epoch 37/100\n",
            "31/31 [==============================] - 0s 10ms/step - loss: 7.1876 - lr: 6.3096e-07\n",
            "Epoch 38/100\n",
            "31/31 [==============================] - 0s 10ms/step - loss: 7.1119 - lr: 7.0795e-07\n",
            "Epoch 39/100\n",
            "31/31 [==============================] - 0s 10ms/step - loss: 7.0204 - lr: 7.9433e-07\n",
            "Epoch 40/100\n",
            "31/31 [==============================] - 0s 9ms/step - loss: 6.9558 - lr: 8.9125e-07\n",
            "Epoch 41/100\n",
            "31/31 [==============================] - 1s 13ms/step - loss: 6.8482 - lr: 1.0000e-06\n",
            "Epoch 42/100\n",
            "31/31 [==============================] - 1s 14ms/step - loss: 6.7487 - lr: 1.1220e-06\n",
            "Epoch 43/100\n",
            "31/31 [==============================] - 1s 14ms/step - loss: 6.6506 - lr: 1.2589e-06\n",
            "Epoch 44/100\n",
            "31/31 [==============================] - 1s 14ms/step - loss: 6.5723 - lr: 1.4125e-06\n",
            "Epoch 45/100\n",
            "31/31 [==============================] - 1s 10ms/step - loss: 6.4474 - lr: 1.5849e-06\n",
            "Epoch 46/100\n",
            "31/31 [==============================] - 0s 10ms/step - loss: 6.3903 - lr: 1.7783e-06\n",
            "Epoch 47/100\n",
            "31/31 [==============================] - 0s 10ms/step - loss: 6.1949 - lr: 1.9953e-06\n",
            "Epoch 48/100\n",
            "31/31 [==============================] - 0s 10ms/step - loss: 6.1211 - lr: 2.2387e-06\n",
            "Epoch 49/100\n",
            "31/31 [==============================] - 0s 9ms/step - loss: 6.0205 - lr: 2.5119e-06\n",
            "Epoch 50/100\n",
            "31/31 [==============================] - 0s 10ms/step - loss: 5.8415 - lr: 2.8184e-06\n",
            "Epoch 51/100\n",
            "31/31 [==============================] - 0s 10ms/step - loss: 5.8219 - lr: 3.1623e-06\n",
            "Epoch 52/100\n",
            "31/31 [==============================] - 0s 10ms/step - loss: 5.6850 - lr: 3.5481e-06\n",
            "Epoch 53/100\n",
            "31/31 [==============================] - 0s 10ms/step - loss: 5.6653 - lr: 3.9811e-06\n",
            "Epoch 54/100\n",
            "31/31 [==============================] - 0s 10ms/step - loss: 5.5220 - lr: 4.4668e-06\n",
            "Epoch 55/100\n",
            "31/31 [==============================] - 0s 10ms/step - loss: 5.5112 - lr: 5.0119e-06\n",
            "Epoch 56/100\n",
            "31/31 [==============================] - 0s 10ms/step - loss: 5.4234 - lr: 5.6234e-06\n",
            "Epoch 57/100\n",
            "31/31 [==============================] - 0s 10ms/step - loss: 5.2165 - lr: 6.3096e-06\n",
            "Epoch 58/100\n",
            "31/31 [==============================] - 0s 9ms/step - loss: 5.0940 - lr: 7.0795e-06\n",
            "Epoch 59/100\n",
            "31/31 [==============================] - 0s 10ms/step - loss: 5.0126 - lr: 7.9433e-06\n",
            "Epoch 60/100\n",
            "31/31 [==============================] - 0s 9ms/step - loss: 5.3934 - lr: 8.9125e-06\n",
            "Epoch 61/100\n",
            "31/31 [==============================] - 0s 9ms/step - loss: 5.2800 - lr: 1.0000e-05\n",
            "Epoch 62/100\n",
            "31/31 [==============================] - 0s 9ms/step - loss: 4.8794 - lr: 1.1220e-05\n",
            "Epoch 63/100\n",
            "31/31 [==============================] - 0s 10ms/step - loss: 4.7690 - lr: 1.2589e-05\n",
            "Epoch 64/100\n",
            "31/31 [==============================] - 0s 9ms/step - loss: 4.9739 - lr: 1.4125e-05\n",
            "Epoch 65/100\n",
            "31/31 [==============================] - 0s 9ms/step - loss: 5.1727 - lr: 1.5849e-05\n",
            "Epoch 66/100\n",
            "31/31 [==============================] - 0s 9ms/step - loss: 5.1436 - lr: 1.7783e-05\n",
            "Epoch 67/100\n",
            "31/31 [==============================] - 0s 12ms/step - loss: 5.4238 - lr: 1.9953e-05\n",
            "Epoch 68/100\n",
            "31/31 [==============================] - 1s 15ms/step - loss: 5.2360 - lr: 2.2387e-05\n",
            "Epoch 69/100\n",
            "31/31 [==============================] - 1s 12ms/step - loss: 5.0592 - lr: 2.5119e-05\n",
            "Epoch 70/100\n",
            "31/31 [==============================] - 0s 9ms/step - loss: 5.1961 - lr: 2.8184e-05\n",
            "Epoch 71/100\n",
            "31/31 [==============================] - 0s 10ms/step - loss: 5.0095 - lr: 3.1623e-05\n",
            "Epoch 72/100\n",
            "31/31 [==============================] - 0s 10ms/step - loss: 5.8229 - lr: 3.5481e-05\n",
            "Epoch 73/100\n",
            "31/31 [==============================] - 0s 10ms/step - loss: 5.1327 - lr: 3.9811e-05\n",
            "Epoch 74/100\n",
            "31/31 [==============================] - 0s 10ms/step - loss: 5.5449 - lr: 4.4668e-05\n",
            "Epoch 75/100\n",
            "31/31 [==============================] - 0s 10ms/step - loss: 6.0672 - lr: 5.0119e-05\n",
            "Epoch 76/100\n",
            "31/31 [==============================] - 0s 9ms/step - loss: 5.5131 - lr: 5.6234e-05\n",
            "Epoch 77/100\n",
            "31/31 [==============================] - 0s 10ms/step - loss: 5.3604 - lr: 6.3096e-05\n",
            "Epoch 78/100\n",
            "31/31 [==============================] - 0s 10ms/step - loss: 5.4505 - lr: 7.0795e-05\n",
            "Epoch 79/100\n",
            "31/31 [==============================] - 0s 10ms/step - loss: 6.7406 - lr: 7.9433e-05\n",
            "Epoch 80/100\n",
            "31/31 [==============================] - 0s 10ms/step - loss: 5.3685 - lr: 8.9125e-05\n",
            "Epoch 81/100\n",
            "31/31 [==============================] - 1s 31ms/step - loss: 5.9182 - lr: 1.0000e-04\n",
            "Epoch 82/100\n",
            "31/31 [==============================] - 1s 10ms/step - loss: 7.3279 - lr: 1.1220e-04\n",
            "Epoch 83/100\n",
            "31/31 [==============================] - 1s 22ms/step - loss: 7.3647 - lr: 1.2589e-04\n",
            "Epoch 84/100\n",
            "31/31 [==============================] - 0s 9ms/step - loss: 6.1209 - lr: 1.4125e-04\n",
            "Epoch 85/100\n",
            "31/31 [==============================] - 1s 15ms/step - loss: 7.7986 - lr: 1.5849e-04\n",
            "Epoch 86/100\n",
            "31/31 [==============================] - 0s 11ms/step - loss: 6.8172 - lr: 1.7783e-04\n",
            "Epoch 87/100\n",
            "31/31 [==============================] - 1s 15ms/step - loss: 6.8895 - lr: 1.9953e-04\n",
            "Epoch 88/100\n",
            "31/31 [==============================] - 1s 14ms/step - loss: 8.4134 - lr: 2.2387e-04\n",
            "Epoch 89/100\n",
            "31/31 [==============================] - 1s 14ms/step - loss: 7.4025 - lr: 2.5119e-04\n",
            "Epoch 90/100\n",
            "31/31 [==============================] - 1s 10ms/step - loss: 6.8554 - lr: 2.8184e-04\n",
            "Epoch 91/100\n",
            "31/31 [==============================] - 0s 10ms/step - loss: 8.2636 - lr: 3.1623e-04\n",
            "Epoch 92/100\n",
            "31/31 [==============================] - 0s 10ms/step - loss: 8.3677 - lr: 3.5481e-04\n",
            "Epoch 93/100\n",
            "31/31 [==============================] - 0s 10ms/step - loss: 6.5334 - lr: 3.9811e-04\n",
            "Epoch 94/100\n",
            "31/31 [==============================] - 0s 10ms/step - loss: 6.4402 - lr: 4.4668e-04\n",
            "Epoch 95/100\n",
            "31/31 [==============================] - 0s 10ms/step - loss: 7.9367 - lr: 5.0119e-04\n",
            "Epoch 96/100\n",
            "31/31 [==============================] - 0s 11ms/step - loss: 10.5581 - lr: 5.6234e-04\n",
            "Epoch 97/100\n",
            "31/31 [==============================] - 0s 10ms/step - loss: 9.7280 - lr: 6.3096e-04\n",
            "Epoch 98/100\n",
            "31/31 [==============================] - 0s 10ms/step - loss: 7.4939 - lr: 7.0795e-04\n",
            "Epoch 99/100\n",
            "31/31 [==============================] - 0s 10ms/step - loss: 10.8577 - lr: 7.9433e-04\n",
            "Epoch 100/100\n",
            "31/31 [==============================] - 0s 10ms/step - loss: 11.3809 - lr: 8.9125e-04\n"
          ]
        }
      ],
      "source": [
        "# Set the learning rate scheduler\n",
        "lr_schedule = tf.keras.callbacks.LearningRateScheduler(\n",
        "    lambda epoch: 1e-8 * 10**(epoch / 20))\n",
        "\n",
        "# Initialize the optimizer\n",
        "optimizer = tf.keras.optimizers.SGD(momentum=0.9)\n",
        "\n",
        "# Set the training parameters\n",
        "model_tune.compile(loss=tf.keras.losses.Huber(), optimizer=optimizer)\n",
        "\n",
        "# Train the model\n",
        "history = model_tune.fit(dataset, epochs=100, callbacks=[lr_schedule])"
      ]
    },
    {
      "cell_type": "code",
      "execution_count": 11,
      "metadata": {
        "id": "AkBsrsXMzoWR",
        "colab": {
          "base_uri": "https://localhost:8080/",
          "height": 558
        },
        "outputId": "0ad07533-6c1a-4a17-8547-5dd684f71f4d"
      },
      "outputs": [
        {
          "output_type": "execute_result",
          "data": {
            "text/plain": [
              "(1e-08, 0.001, 0.0, 30.0)"
            ]
          },
          "metadata": {},
          "execution_count": 11
        },
        {
          "output_type": "display_data",
          "data": {
            "text/plain": [
              "<Figure size 1000x600 with 1 Axes>"
            ],
            "image/png": "[encoded data removed]"
          },
          "metadata": {}
        }
      ],
      "source": [
        "# Define the learning rate array\n",
        "lrs = 1e-8 * (10 ** (np.arange(100) / 20))\n",
        "\n",
        "# Set the figure size\n",
        "plt.figure(figsize=(10, 6))\n",
        "\n",
        "# Set the grid\n",
        "plt.grid(True)\n",
        "\n",
        "# Plot the loss in log scale\n",
        "plt.semilogx(lrs, history.history[\"loss\"])\n",
        "\n",
        "# Increase the tickmarks size\n",
        "plt.tick_params('both', length=10, width=1, which='both')\n",
        "\n",
        "# Set the plot boundaries\n",
        "plt.axis([1e-8, 1e-3, 0, 30])"
      ]
    },
    {
      "cell_type": "markdown",
      "metadata": {
        "id": "i-lKNp4pq_w8"
      },
      "source": [
        "## Train the Model\n",
        "\n",
        "You can then proceed to train the model with your chosen learning rate.\n",
        "\n",
        "*Tip: When experimenting and you find yourself running different iterations of a model, you may want to use the [`clear_session()`](https://www.tensorflow.org/api_docs/python/tf/keras/backend/clear_session) method to declutter memory used by Keras. This is added in the first line below.*\n"
      ]
    },
    {
      "cell_type": "code",
      "execution_count": 12,
      "metadata": {
        "id": "4uh-97bpLZCA",
        "colab": {
          "base_uri": "https://localhost:8080/"
        },
        "outputId": "6bea1d31-9c8d-4a08-a8c5-72a679fd130a"
      },
      "outputs": [
        {
          "output_type": "stream",
          "name": "stdout",
          "text": [
            "Epoch 1/100\n",
            "31/31 [==============================] - 7s 11ms/step - loss: 60.5834 - mae: 61.0803\n",
            "Epoch 2/100\n",
            "31/31 [==============================] - 0s 10ms/step - loss: 13.6173 - mae: 14.1107\n",
            "Epoch 3/100\n",
            "31/31 [==============================] - 0s 10ms/step - loss: 10.9511 - mae: 11.4407\n",
            "Epoch 4/100\n",
            "31/31 [==============================] - 0s 10ms/step - loss: 9.5075 - mae: 9.9953\n",
            "Epoch 5/100\n",
            "31/31 [==============================] - 0s 10ms/step - loss: 8.5802 - mae: 9.0584\n",
            "Epoch 6/100\n",
            "31/31 [==============================] - 0s 10ms/step - loss: 7.8227 - mae: 8.3034\n",
            "Epoch 7/100\n",
            "31/31 [==============================] - 0s 10ms/step - loss: 7.2894 - mae: 7.7685\n",
            "Epoch 8/100\n",
            "31/31 [==============================] - 0s 10ms/step - loss: 6.8765 - mae: 7.3523\n",
            "Epoch 9/100\n",
            "31/31 [==============================] - 0s 10ms/step - loss: 6.5446 - mae: 7.0275\n",
            "Epoch 10/100\n",
            "31/31 [==============================] - 0s 10ms/step - loss: 6.2876 - mae: 6.7659\n",
            "Epoch 11/100\n",
            "31/31 [==============================] - 0s 11ms/step - loss: 6.0859 - mae: 6.5632\n",
            "Epoch 12/100\n",
            "31/31 [==============================] - 0s 10ms/step - loss: 5.9701 - mae: 6.4487\n",
            "Epoch 13/100\n",
            "31/31 [==============================] - 0s 10ms/step - loss: 5.6477 - mae: 6.1297\n",
            "Epoch 14/100\n",
            "31/31 [==============================] - 0s 10ms/step - loss: 5.5506 - mae: 6.0280\n",
            "Epoch 15/100\n",
            "31/31 [==============================] - 0s 10ms/step - loss: 5.4183 - mae: 5.8958\n",
            "Epoch 16/100\n",
            "31/31 [==============================] - 0s 10ms/step - loss: 5.3538 - mae: 5.8334\n",
            "Epoch 17/100\n",
            "31/31 [==============================] - 0s 10ms/step - loss: 5.2599 - mae: 5.7390\n",
            "Epoch 18/100\n",
            "31/31 [==============================] - 0s 10ms/step - loss: 5.1877 - mae: 5.6658\n",
            "Epoch 19/100\n",
            "31/31 [==============================] - 1s 15ms/step - loss: 5.0943 - mae: 5.5756\n",
            "Epoch 20/100\n",
            "31/31 [==============================] - 1s 14ms/step - loss: 5.1629 - mae: 5.6358\n",
            "Epoch 21/100\n",
            "31/31 [==============================] - 1s 12ms/step - loss: 5.0361 - mae: 5.5135\n",
            "Epoch 22/100\n",
            "31/31 [==============================] - 0s 10ms/step - loss: 5.0174 - mae: 5.4985\n",
            "Epoch 23/100\n",
            "31/31 [==============================] - 0s 10ms/step - loss: 5.1020 - mae: 5.5831\n",
            "Epoch 24/100\n",
            "31/31 [==============================] - 0s 10ms/step - loss: 5.0492 - mae: 5.5257\n",
            "Epoch 25/100\n",
            "31/31 [==============================] - 0s 10ms/step - loss: 4.9053 - mae: 5.3831\n",
            "Epoch 26/100\n",
            "31/31 [==============================] - 0s 10ms/step - loss: 4.8837 - mae: 5.3660\n",
            "Epoch 27/100\n",
            "31/31 [==============================] - 0s 10ms/step - loss: 4.9189 - mae: 5.3957\n",
            "Epoch 28/100\n",
            "31/31 [==============================] - 0s 10ms/step - loss: 4.9500 - mae: 5.4257\n",
            "Epoch 29/100\n",
            "31/31 [==============================] - 0s 10ms/step - loss: 4.8612 - mae: 5.3333\n",
            "Epoch 30/100\n",
            "31/31 [==============================] - 0s 10ms/step - loss: 4.7918 - mae: 5.2649\n",
            "Epoch 31/100\n",
            "31/31 [==============================] - 0s 10ms/step - loss: 4.9407 - mae: 5.4185\n",
            "Epoch 32/100\n",
            "31/31 [==============================] - 0s 11ms/step - loss: 4.8358 - mae: 5.3146\n",
            "Epoch 33/100\n",
            "31/31 [==============================] - 0s 10ms/step - loss: 4.7367 - mae: 5.2116\n",
            "Epoch 34/100\n",
            "31/31 [==============================] - 0s 9ms/step - loss: 5.0003 - mae: 5.4747\n",
            "Epoch 35/100\n",
            "31/31 [==============================] - 0s 10ms/step - loss: 4.7632 - mae: 5.2402\n",
            "Epoch 36/100\n",
            "31/31 [==============================] - 0s 10ms/step - loss: 4.6845 - mae: 5.1606\n",
            "Epoch 37/100\n",
            "31/31 [==============================] - 0s 10ms/step - loss: 4.8694 - mae: 5.3456\n",
            "Epoch 38/100\n",
            "31/31 [==============================] - 0s 11ms/step - loss: 4.8046 - mae: 5.2780\n",
            "Epoch 39/100\n",
            "31/31 [==============================] - 0s 10ms/step - loss: 4.7219 - mae: 5.2000\n",
            "Epoch 40/100\n",
            "31/31 [==============================] - 0s 11ms/step - loss: 4.6808 - mae: 5.1544\n",
            "Epoch 41/100\n",
            "31/31 [==============================] - 0s 10ms/step - loss: 4.6997 - mae: 5.1719\n",
            "Epoch 42/100\n",
            "31/31 [==============================] - 0s 10ms/step - loss: 4.7863 - mae: 5.2653\n",
            "Epoch 43/100\n",
            "31/31 [==============================] - 0s 10ms/step - loss: 4.7997 - mae: 5.2770\n",
            "Epoch 44/100\n",
            "31/31 [==============================] - 1s 14ms/step - loss: 4.6869 - mae: 5.1664\n",
            "Epoch 45/100\n",
            "31/31 [==============================] - 1s 15ms/step - loss: 4.7539 - mae: 5.2305\n",
            "Epoch 46/100\n",
            "31/31 [==============================] - 1s 15ms/step - loss: 4.7312 - mae: 5.2050\n",
            "Epoch 47/100\n",
            "31/31 [==============================] - 1s 15ms/step - loss: 4.5787 - mae: 5.0569\n",
            "Epoch 48/100\n",
            "31/31 [==============================] - 1s 11ms/step - loss: 4.6231 - mae: 5.0983\n",
            "Epoch 49/100\n",
            "31/31 [==============================] - 0s 10ms/step - loss: 4.8191 - mae: 5.2996\n",
            "Epoch 50/100\n",
            "31/31 [==============================] - 0s 10ms/step - loss: 4.9080 - mae: 5.3821\n",
            "Epoch 51/100\n",
            "31/31 [==============================] - 0s 10ms/step - loss: 4.6283 - mae: 5.1045\n",
            "Epoch 52/100\n",
            "31/31 [==============================] - 0s 10ms/step - loss: 4.5915 - mae: 5.0641\n",
            "Epoch 53/100\n",
            "31/31 [==============================] - 0s 10ms/step - loss: 4.6569 - mae: 5.1337\n",
            "Epoch 54/100\n",
            "31/31 [==============================] - 0s 11ms/step - loss: 4.6512 - mae: 5.1299\n",
            "Epoch 55/100\n",
            "31/31 [==============================] - 0s 10ms/step - loss: 4.7500 - mae: 5.2234\n",
            "Epoch 56/100\n",
            "31/31 [==============================] - 0s 10ms/step - loss: 4.7546 - mae: 5.2293\n",
            "Epoch 57/100\n",
            "31/31 [==============================] - 0s 11ms/step - loss: 4.7130 - mae: 5.1912\n",
            "Epoch 58/100\n",
            "31/31 [==============================] - 0s 10ms/step - loss: 4.5900 - mae: 5.0656\n",
            "Epoch 59/100\n",
            "31/31 [==============================] - 0s 10ms/step - loss: 4.5632 - mae: 5.0389\n",
            "Epoch 60/100\n",
            "31/31 [==============================] - 0s 9ms/step - loss: 4.5886 - mae: 5.0683\n",
            "Epoch 61/100\n",
            "31/31 [==============================] - 0s 10ms/step - loss: 4.5805 - mae: 5.0521\n",
            "Epoch 62/100\n",
            "31/31 [==============================] - 0s 10ms/step - loss: 4.6100 - mae: 5.0840\n",
            "Epoch 63/100\n",
            "31/31 [==============================] - 0s 10ms/step - loss: 4.6642 - mae: 5.1375\n",
            "Epoch 64/100\n",
            "31/31 [==============================] - 0s 10ms/step - loss: 4.6083 - mae: 5.0790\n",
            "Epoch 65/100\n",
            "31/31 [==============================] - 0s 10ms/step - loss: 4.5265 - mae: 5.0060\n",
            "Epoch 66/100\n",
            "31/31 [==============================] - 0s 10ms/step - loss: 4.5661 - mae: 5.0449\n",
            "Epoch 67/100\n",
            "31/31 [==============================] - 0s 10ms/step - loss: 4.5863 - mae: 5.0594\n",
            "Epoch 68/100\n",
            "31/31 [==============================] - 0s 10ms/step - loss: 4.5267 - mae: 5.0027\n",
            "Epoch 69/100\n",
            "31/31 [==============================] - 0s 10ms/step - loss: 4.4823 - mae: 4.9543\n",
            "Epoch 70/100\n",
            "31/31 [==============================] - 0s 10ms/step - loss: 4.5292 - mae: 5.0030\n",
            "Epoch 71/100\n",
            "31/31 [==============================] - 1s 15ms/step - loss: 4.6023 - mae: 5.0785\n",
            "Epoch 72/100\n",
            "31/31 [==============================] - 1s 14ms/step - loss: 4.5173 - mae: 4.9935\n",
            "Epoch 73/100\n",
            "31/31 [==============================] - 1s 14ms/step - loss: 4.5661 - mae: 5.0399\n",
            "Epoch 74/100\n",
            "31/31 [==============================] - 0s 10ms/step - loss: 4.5484 - mae: 5.0200\n",
            "Epoch 75/100\n",
            "31/31 [==============================] - 0s 10ms/step - loss: 4.6066 - mae: 5.0792\n",
            "Epoch 76/100\n",
            "31/31 [==============================] - 0s 10ms/step - loss: 4.5171 - mae: 4.9903\n",
            "Epoch 77/100\n",
            "31/31 [==============================] - 0s 10ms/step - loss: 4.5497 - mae: 5.0244\n",
            "Epoch 78/100\n",
            "31/31 [==============================] - 0s 10ms/step - loss: 4.4855 - mae: 4.9627\n",
            "Epoch 79/100\n",
            "31/31 [==============================] - 0s 11ms/step - loss: 4.6022 - mae: 5.0787\n",
            "Epoch 80/100\n",
            "31/31 [==============================] - 0s 10ms/step - loss: 4.6710 - mae: 5.1477\n",
            "Epoch 81/100\n",
            "31/31 [==============================] - 0s 10ms/step - loss: 4.5884 - mae: 5.0646\n",
            "Epoch 82/100\n",
            "31/31 [==============================] - 0s 10ms/step - loss: 4.5461 - mae: 5.0231\n",
            "Epoch 83/100\n",
            "31/31 [==============================] - 0s 10ms/step - loss: 4.5471 - mae: 5.0217\n",
            "Epoch 84/100\n",
            "31/31 [==============================] - 0s 10ms/step - loss: 4.5143 - mae: 4.9918\n",
            "Epoch 85/100\n",
            "31/31 [==============================] - 0s 10ms/step - loss: 4.7210 - mae: 5.1955\n",
            "Epoch 86/100\n",
            "31/31 [==============================] - 0s 10ms/step - loss: 4.6962 - mae: 5.1751\n",
            "Epoch 87/100\n",
            "31/31 [==============================] - 0s 10ms/step - loss: 4.6991 - mae: 5.1744\n",
            "Epoch 88/100\n",
            "31/31 [==============================] - 0s 10ms/step - loss: 4.5007 - mae: 4.9721\n",
            "Epoch 89/100\n",
            "31/31 [==============================] - 0s 10ms/step - loss: 4.5819 - mae: 5.0548\n",
            "Epoch 90/100\n",
            "31/31 [==============================] - 0s 10ms/step - loss: 4.4941 - mae: 4.9661\n",
            "Epoch 91/100\n",
            "31/31 [==============================] - 0s 10ms/step - loss: 4.5300 - mae: 5.0047\n",
            "Epoch 92/100\n",
            "31/31 [==============================] - 0s 10ms/step - loss: 4.4293 - mae: 4.9054\n",
            "Epoch 93/100\n",
            "31/31 [==============================] - 0s 10ms/step - loss: 4.6143 - mae: 5.0926\n",
            "Epoch 94/100\n",
            "31/31 [==============================] - 1s 15ms/step - loss: 4.4517 - mae: 4.9287\n",
            "Epoch 95/100\n",
            "31/31 [==============================] - 1s 15ms/step - loss: 4.4687 - mae: 4.9429\n",
            "Epoch 96/100\n",
            "31/31 [==============================] - 1s 13ms/step - loss: 4.4887 - mae: 4.9656\n",
            "Epoch 97/100\n",
            "31/31 [==============================] - 0s 11ms/step - loss: 4.4808 - mae: 4.9555\n",
            "Epoch 98/100\n",
            "31/31 [==============================] - 0s 10ms/step - loss: 4.5141 - mae: 4.9901\n",
            "Epoch 99/100\n",
            "31/31 [==============================] - 0s 10ms/step - loss: 4.4617 - mae: 4.9417\n",
            "Epoch 100/100\n",
            "31/31 [==============================] - 0s 10ms/step - loss: 4.4702 - mae: 4.9458\n"
          ]
        }
      ],
      "source": [
        "# Reset states generated by Keras\n",
        "tf.keras.backend.clear_session()\n",
        "\n",
        "# Build the model\n",
        "model = tf.keras.models.Sequential([\n",
        "  tf.keras.layers.Lambda(lambda x: tf.expand_dims(x, axis=-1),\n",
        "                      input_shape=[None]),\n",
        "   tf.keras.layers.Bidirectional(tf.keras.layers.LSTM(32, return_sequences=True)),\n",
        "  tf.keras.layers.Bidirectional(tf.keras.layers.LSTM(32)),\n",
        "  tf.keras.layers.Dense(1),\n",
        "  tf.keras.layers.Lambda(lambda x: x * 100.0)\n",
        "])\n",
        "\n",
        "# Set the learning rate\n",
        "learning_rate = 2e-6\n",
        "\n",
        "# Set the optimizer\n",
        "optimizer = tf.keras.optimizers.SGD(learning_rate=learning_rate, momentum=0.9)\n",
        "\n",
        "# Set the training parameters\n",
        "model.compile(loss=tf.keras.losses.Huber(),\n",
        "              optimizer=optimizer,\n",
        "              metrics=[\"mae\"])\n",
        "\n",
        "# Train the model\n",
        "history = model.fit(dataset,epochs=100)"
      ]
    },
    {
      "cell_type": "markdown",
      "metadata": {
        "id": "RjP4kbGiI7cw"
      },
      "source": [
        "## Model Prediction\n",
        "\n",
        "You will then generate batches of windows to generate predictions that align with the validation set."
      ]
    },
    {
      "cell_type": "code",
      "execution_count": 13,
      "metadata": {
        "id": "QO8cfKwKBBG6"
      },
      "outputs": [],
      "source": [
        "def model_forecast(model, series, window_size, batch_size):\n",
        "    \"\"\"Uses an input model to generate predictions on data windows\n",
        "\n",
        "    Args:\n",
        "      model (TF Keras Model) - model that accepts data windows\n",
        "      series (array of float) - contains the values of the time series\n",
        "      window_size (int) - the number of time steps to include in the window\n",
        "      batch_size (int) - the batch size\n",
        "\n",
        "    Returns:\n",
        "      forecast (numpy array) - array containing predictions\n",
        "    \"\"\"\n",
        "\n",
        "    # Generate a TF Dataset from the series values\n",
        "    dataset = tf.data.Dataset.from_tensor_slices(series)\n",
        "\n",
        "    # Window the data but only take those with the specified size\n",
        "    dataset = dataset.window(window_size, shift=1, drop_remainder=True)\n",
        "\n",
        "    # Flatten the windows by putting its elements in a single batch\n",
        "    dataset = dataset.flat_map(lambda w: w.batch(window_size))\n",
        "\n",
        "    # Create batches of windows\n",
        "    dataset = dataset.batch(batch_size).prefetch(1)\n",
        "\n",
        "    # Get predictions on the entire dataset\n",
        "    forecast = model.predict(dataset)\n",
        "\n",
        "    return forecast"
      ]
    },
    {
      "cell_type": "code",
      "execution_count": 14,
      "metadata": {
        "id": "_plB3UseBD8o",
        "colab": {
          "base_uri": "https://localhost:8080/",
          "height": 559
        },
        "outputId": "53c7c44e-217d-4ead-8b60-6d040f79168b"
      },
      "outputs": [
        {
          "output_type": "stream",
          "name": "stdout",
          "text": [
            "15/15 [==============================] - 1s 7ms/step\n"
          ]
        },
        {
          "output_type": "display_data",
          "data": {
            "text/plain": [
              "<Figure size 1000x600 with 1 Axes>"
            ],
            "image/png": "[encoded data removed]"
          },
          "metadata": {}
        }
      ],
      "source": [
        "# Reduce the original series\n",
        "forecast_series = series[split_time-window_size:-1]\n",
        "\n",
        "# Use helper function to generate predictions\n",
        "forecast = model_forecast(model, forecast_series, window_size, batch_size)\n",
        "\n",
        "# Drop single dimensional axis\n",
        "results = forecast.squeeze()\n",
        "\n",
        "# Plot the results\n",
        "plot_series(time_valid, (x_valid, results))"
      ]
    },
    {
      "cell_type": "markdown",
      "metadata": {
        "id": "Nn8iSQkZtaRC"
      },
      "source": [
        "You can then generate the metrics to evaluate the model's performance."
      ]
    },
    {
      "cell_type": "code",
      "execution_count": 15,
      "metadata": {
        "id": "-IKhueZaBGID",
        "colab": {
          "base_uri": "https://localhost:8080/"
        },
        "outputId": "c6b11474-52f3-4342-ca31-7f29ace969ef"
      },
      "outputs": [
        {
          "output_type": "stream",
          "name": "stdout",
          "text": [
            "72.58955\n",
            "6.1253986\n"
          ]
        }
      ],
      "source": [
        "# Compute the MSE and MAE\n",
        "print(tf.keras.metrics.mean_squared_error(x_valid, results).numpy())\n",
        "print(tf.keras.metrics.mean_absolute_error(x_valid, results).numpy())"
      ]
    },
    {
      "cell_type": "markdown",
      "metadata": {
        "id": "bzPIqeMWvbPy"
      },
      "source": [
        "## Wrap Up\n",
        "\n",
        "This concludes this short exercise on using LSTMs for time series forecasting. Next week, you will build upon this and add convolutions. Then, you will start to move away from synthetic data and use real-world datasets. See you there!"
      ]
    },
    {
      "cell_type": "markdown",
      "metadata": {
        "id": "U5PqTePGHeMH"
      },
      "source": [
        "## Optional: Including a Validation Set while Training\n",
        "\n",
        "Back in the first course of this specialization, you saw how you can also monitor the performance of your model against a validation set while training. You can also do that for this lab.\n",
        "\n",
        "First, you need to generate a `val_set` which are data windows and labels that your model can accept. You can simply reuse the `windowed_dataset` function for that and you can pass in the `x_valid` points to generate the windows."
      ]
    },
    {
      "cell_type": "code",
      "execution_count": 16,
      "metadata": {
        "id": "kvFVwL3PC4iX"
      },
      "outputs": [],
      "source": [
        "# Generate data windows of the validation set\n",
        "val_set = windowed_dataset(x_valid, window_size, batch_size, shuffle_buffer_size)"
      ]
    },
    {
      "cell_type": "markdown",
      "metadata": {
        "id": "p68j6XxEvP9K"
      },
      "source": [
        "You can then do the same training as before but pass in the `val_set` to the `validation_data` parameter of the `fit()` method."
      ]
    },
    {
      "cell_type": "code",
      "execution_count": 17,
      "metadata": {
        "id": "wujKz6tXDSn0",
        "colab": {
          "base_uri": "https://localhost:8080/"
        },
        "outputId": "f90f993b-ad6e-4bdf-d018-abf8e02a17f7"
      },
      "outputs": [
        {
          "output_type": "stream",
          "name": "stdout",
          "text": [
            "Epoch 1/100\n",
            "31/31 [==============================] - 9s 69ms/step - loss: 18.2005 - mae: 18.6966 - val_loss: 30.3720 - val_mae: 30.8709\n",
            "Epoch 2/100\n",
            "31/31 [==============================] - 1s 14ms/step - loss: 15.2981 - mae: 15.7914 - val_loss: 30.3532 - val_mae: 30.8512\n",
            "Epoch 3/100\n",
            "31/31 [==============================] - 1s 14ms/step - loss: 13.4185 - mae: 13.9086 - val_loss: 28.9043 - val_mae: 29.4011\n",
            "Epoch 4/100\n",
            "31/31 [==============================] - 1s 14ms/step - loss: 11.6917 - mae: 12.1836 - val_loss: 26.8815 - val_mae: 27.3802\n",
            "Epoch 5/100\n",
            "31/31 [==============================] - 1s 15ms/step - loss: 10.0751 - mae: 10.5619 - val_loss: 22.9052 - val_mae: 23.4020\n",
            "Epoch 6/100\n",
            "31/31 [==============================] - 1s 14ms/step - loss: 8.5372 - mae: 9.0226 - val_loss: 19.6619 - val_mae: 20.1595\n",
            "Epoch 7/100\n",
            "31/31 [==============================] - 1s 14ms/step - loss: 7.4612 - mae: 7.9404 - val_loss: 17.0507 - val_mae: 17.5450\n",
            "Epoch 8/100\n",
            "31/31 [==============================] - 1s 13ms/step - loss: 6.9769 - mae: 7.4591 - val_loss: 15.8981 - val_mae: 16.3950\n",
            "Epoch 9/100\n",
            "31/31 [==============================] - 1s 16ms/step - loss: 6.6187 - mae: 7.1001 - val_loss: 14.0530 - val_mae: 14.5514\n",
            "Epoch 10/100\n",
            "31/31 [==============================] - 1s 14ms/step - loss: 6.4035 - mae: 6.8842 - val_loss: 12.2468 - val_mae: 12.7391\n",
            "Epoch 11/100\n",
            "31/31 [==============================] - 1s 14ms/step - loss: 6.2430 - mae: 6.7208 - val_loss: 11.8669 - val_mae: 12.3616\n",
            "Epoch 12/100\n",
            "31/31 [==============================] - 1s 14ms/step - loss: 6.1239 - mae: 6.6068 - val_loss: 10.5200 - val_mae: 11.0090\n",
            "Epoch 13/100\n",
            "31/31 [==============================] - 1s 14ms/step - loss: 6.0175 - mae: 6.4971 - val_loss: 10.6010 - val_mae: 11.0927\n",
            "Epoch 14/100\n",
            "31/31 [==============================] - 1s 14ms/step - loss: 5.9524 - mae: 6.4333 - val_loss: 10.2602 - val_mae: 10.7508\n",
            "Epoch 15/100\n",
            "31/31 [==============================] - 1s 14ms/step - loss: 5.9234 - mae: 6.4057 - val_loss: 10.1715 - val_mae: 10.6607\n",
            "Epoch 16/100\n",
            "31/31 [==============================] - 1s 22ms/step - loss: 5.8144 - mae: 6.2919 - val_loss: 9.3383 - val_mae: 9.8263\n",
            "Epoch 17/100\n",
            "31/31 [==============================] - 1s 21ms/step - loss: 5.8492 - mae: 6.3278 - val_loss: 8.5204 - val_mae: 9.0105\n",
            "Epoch 18/100\n",
            "31/31 [==============================] - 1s 25ms/step - loss: 5.8530 - mae: 6.3330 - val_loss: 9.2700 - val_mae: 9.7571\n",
            "Epoch 19/100\n",
            "31/31 [==============================] - 1s 15ms/step - loss: 5.7377 - mae: 6.2185 - val_loss: 9.8300 - val_mae: 10.3219\n",
            "Epoch 20/100\n",
            "31/31 [==============================] - 1s 14ms/step - loss: 5.5850 - mae: 6.0656 - val_loss: 8.6567 - val_mae: 9.1404\n",
            "Epoch 21/100\n",
            "31/31 [==============================] - 1s 14ms/step - loss: 5.6109 - mae: 6.0916 - val_loss: 9.8403 - val_mae: 10.3311\n",
            "Epoch 22/100\n",
            "31/31 [==============================] - 1s 13ms/step - loss: 5.5555 - mae: 6.0374 - val_loss: 9.1945 - val_mae: 9.6852\n",
            "Epoch 23/100\n",
            "31/31 [==============================] - 1s 14ms/step - loss: 5.4948 - mae: 5.9750 - val_loss: 9.3568 - val_mae: 9.8495\n",
            "Epoch 24/100\n",
            "31/31 [==============================] - 1s 13ms/step - loss: 5.5718 - mae: 6.0513 - val_loss: 8.1836 - val_mae: 8.6679\n",
            "Epoch 25/100\n",
            "31/31 [==============================] - 1s 14ms/step - loss: 5.5259 - mae: 6.0037 - val_loss: 8.0680 - val_mae: 8.5518\n",
            "Epoch 26/100\n",
            "31/31 [==============================] - 1s 14ms/step - loss: 5.4150 - mae: 5.8939 - val_loss: 8.8868 - val_mae: 9.3764\n",
            "Epoch 27/100\n",
            "31/31 [==============================] - 1s 14ms/step - loss: 5.4385 - mae: 5.9156 - val_loss: 7.9075 - val_mae: 8.3919\n",
            "Epoch 28/100\n",
            "31/31 [==============================] - 1s 14ms/step - loss: 5.2755 - mae: 5.7514 - val_loss: 8.2090 - val_mae: 8.6973\n",
            "Epoch 29/100\n",
            "31/31 [==============================] - 1s 14ms/step - loss: 5.3436 - mae: 5.8229 - val_loss: 9.1286 - val_mae: 9.6194\n",
            "Epoch 30/100\n",
            "31/31 [==============================] - 1s 14ms/step - loss: 5.4159 - mae: 5.8981 - val_loss: 8.3861 - val_mae: 8.8735\n",
            "Epoch 31/100\n",
            "31/31 [==============================] - 1s 15ms/step - loss: 5.2264 - mae: 5.7027 - val_loss: 7.9804 - val_mae: 8.4686\n",
            "Epoch 32/100\n",
            "31/31 [==============================] - 1s 14ms/step - loss: 5.1918 - mae: 5.6698 - val_loss: 7.3773 - val_mae: 7.8634\n",
            "Epoch 33/100\n",
            "31/31 [==============================] - 1s 14ms/step - loss: 5.1910 - mae: 5.6688 - val_loss: 7.9488 - val_mae: 8.4377\n",
            "Epoch 34/100\n",
            "31/31 [==============================] - 1s 14ms/step - loss: 5.2111 - mae: 5.6919 - val_loss: 7.6550 - val_mae: 8.1389\n",
            "Epoch 35/100\n",
            "31/31 [==============================] - 0s 13ms/step - loss: 5.1601 - mae: 5.6388 - val_loss: 7.7704 - val_mae: 8.2577\n",
            "Epoch 36/100\n",
            "31/31 [==============================] - 1s 15ms/step - loss: 5.0895 - mae: 5.5670 - val_loss: 7.1542 - val_mae: 7.6387\n",
            "Epoch 37/100\n",
            "31/31 [==============================] - 1s 25ms/step - loss: 5.2585 - mae: 5.7386 - val_loss: 8.1029 - val_mae: 8.5893\n",
            "Epoch 38/100\n",
            "31/31 [==============================] - 1s 25ms/step - loss: 5.2025 - mae: 5.6784 - val_loss: 7.3993 - val_mae: 7.8841\n",
            "Epoch 39/100\n",
            "31/31 [==============================] - 1s 14ms/step - loss: 5.1212 - mae: 5.5994 - val_loss: 8.3353 - val_mae: 8.8214\n",
            "Epoch 40/100\n",
            "31/31 [==============================] - 1s 14ms/step - loss: 5.2114 - mae: 5.6894 - val_loss: 7.8448 - val_mae: 8.3338\n",
            "Epoch 41/100\n",
            "31/31 [==============================] - 1s 14ms/step - loss: 4.9765 - mae: 5.4529 - val_loss: 7.1310 - val_mae: 7.6160\n",
            "Epoch 42/100\n",
            "31/31 [==============================] - 1s 14ms/step - loss: 5.0068 - mae: 5.4864 - val_loss: 6.9290 - val_mae: 7.4129\n",
            "Epoch 43/100\n",
            "31/31 [==============================] - 1s 14ms/step - loss: 4.9239 - mae: 5.4004 - val_loss: 7.6426 - val_mae: 8.1277\n",
            "Epoch 44/100\n",
            "31/31 [==============================] - 1s 13ms/step - loss: 4.9415 - mae: 5.4189 - val_loss: 6.7013 - val_mae: 7.1859\n",
            "Epoch 45/100\n",
            "31/31 [==============================] - 1s 14ms/step - loss: 4.9384 - mae: 5.4151 - val_loss: 6.9430 - val_mae: 7.4263\n",
            "Epoch 46/100\n",
            "31/31 [==============================] - 1s 14ms/step - loss: 4.9410 - mae: 5.4196 - val_loss: 7.1805 - val_mae: 7.6625\n",
            "Epoch 47/100\n",
            "31/31 [==============================] - 1s 14ms/step - loss: 4.9889 - mae: 5.4660 - val_loss: 6.8667 - val_mae: 7.3499\n",
            "Epoch 48/100\n",
            "31/31 [==============================] - 1s 15ms/step - loss: 4.8360 - mae: 5.3126 - val_loss: 7.2048 - val_mae: 7.6888\n",
            "Epoch 49/100\n",
            "31/31 [==============================] - 1s 14ms/step - loss: 4.8277 - mae: 5.3032 - val_loss: 6.6840 - val_mae: 7.1677\n",
            "Epoch 50/100\n",
            "31/31 [==============================] - 1s 16ms/step - loss: 4.8262 - mae: 5.3012 - val_loss: 7.2229 - val_mae: 7.7076\n",
            "Epoch 51/100\n",
            "31/31 [==============================] - 1s 14ms/step - loss: 4.9177 - mae: 5.3955 - val_loss: 6.7794 - val_mae: 7.2615\n",
            "Epoch 52/100\n",
            "31/31 [==============================] - 1s 15ms/step - loss: 5.0042 - mae: 5.4809 - val_loss: 8.1510 - val_mae: 8.6401\n",
            "Epoch 53/100\n",
            "31/31 [==============================] - 1s 14ms/step - loss: 5.0129 - mae: 5.4914 - val_loss: 6.7085 - val_mae: 7.1920\n",
            "Epoch 54/100\n",
            "31/31 [==============================] - 1s 13ms/step - loss: 4.7888 - mae: 5.2678 - val_loss: 6.5277 - val_mae: 7.0143\n",
            "Epoch 55/100\n",
            "31/31 [==============================] - 1s 14ms/step - loss: 4.8485 - mae: 5.3203 - val_loss: 6.6362 - val_mae: 7.1195\n",
            "Epoch 56/100\n",
            "31/31 [==============================] - 1s 13ms/step - loss: 4.8798 - mae: 5.3549 - val_loss: 7.6494 - val_mae: 8.1357\n",
            "Epoch 57/100\n",
            "31/31 [==============================] - 1s 25ms/step - loss: 4.9816 - mae: 5.4575 - val_loss: 6.8098 - val_mae: 7.2923\n",
            "Epoch 58/100\n",
            "31/31 [==============================] - 1s 26ms/step - loss: 4.8181 - mae: 5.2938 - val_loss: 6.7907 - val_mae: 7.2713\n",
            "Epoch 59/100\n",
            "31/31 [==============================] - 1s 15ms/step - loss: 4.7381 - mae: 5.2152 - val_loss: 6.4828 - val_mae: 6.9694\n",
            "Epoch 60/100\n",
            "31/31 [==============================] - 1s 14ms/step - loss: 4.7177 - mae: 5.1916 - val_loss: 6.4214 - val_mae: 6.9086\n",
            "Epoch 61/100\n",
            "31/31 [==============================] - 1s 13ms/step - loss: 4.7915 - mae: 5.2700 - val_loss: 6.0055 - val_mae: 6.4862\n",
            "Epoch 62/100\n",
            "31/31 [==============================] - 1s 14ms/step - loss: 4.9942 - mae: 5.4731 - val_loss: 8.2625 - val_mae: 8.7514\n",
            "Epoch 63/100\n",
            "31/31 [==============================] - 1s 14ms/step - loss: 4.9063 - mae: 5.3829 - val_loss: 6.1513 - val_mae: 6.6367\n",
            "Epoch 64/100\n",
            "31/31 [==============================] - 1s 14ms/step - loss: 4.8294 - mae: 5.3090 - val_loss: 7.0314 - val_mae: 7.5125\n",
            "Epoch 65/100\n",
            "31/31 [==============================] - 1s 13ms/step - loss: 4.7571 - mae: 5.2319 - val_loss: 6.0649 - val_mae: 6.5510\n",
            "Epoch 66/100\n",
            "31/31 [==============================] - 1s 14ms/step - loss: 4.7023 - mae: 5.1795 - val_loss: 6.9909 - val_mae: 7.4709\n",
            "Epoch 67/100\n",
            "31/31 [==============================] - 1s 15ms/step - loss: 4.6591 - mae: 5.1365 - val_loss: 6.0161 - val_mae: 6.4996\n",
            "Epoch 68/100\n",
            "31/31 [==============================] - 1s 14ms/step - loss: 4.7597 - mae: 5.2380 - val_loss: 6.8224 - val_mae: 7.3027\n",
            "Epoch 69/100\n",
            "31/31 [==============================] - 1s 15ms/step - loss: 4.8835 - mae: 5.3609 - val_loss: 6.1543 - val_mae: 6.6330\n",
            "Epoch 70/100\n",
            "31/31 [==============================] - 1s 14ms/step - loss: 4.7161 - mae: 5.1943 - val_loss: 6.3963 - val_mae: 6.8797\n",
            "Epoch 71/100\n",
            "31/31 [==============================] - 1s 14ms/step - loss: 4.6773 - mae: 5.1544 - val_loss: 6.6856 - val_mae: 7.1659\n",
            "Epoch 72/100\n",
            "31/31 [==============================] - 1s 14ms/step - loss: 4.6375 - mae: 5.1156 - val_loss: 6.7299 - val_mae: 7.2103\n",
            "Epoch 73/100\n",
            "31/31 [==============================] - 1s 14ms/step - loss: 4.6283 - mae: 5.1056 - val_loss: 5.9333 - val_mae: 6.4160\n",
            "Epoch 74/100\n",
            "31/31 [==============================] - 1s 15ms/step - loss: 4.9608 - mae: 5.4409 - val_loss: 7.1613 - val_mae: 7.6459\n",
            "Epoch 75/100\n",
            "31/31 [==============================] - 1s 15ms/step - loss: 4.6716 - mae: 5.1534 - val_loss: 6.0905 - val_mae: 6.5709\n",
            "Epoch 76/100\n",
            "31/31 [==============================] - 1s 14ms/step - loss: 4.6459 - mae: 5.1189 - val_loss: 6.7875 - val_mae: 7.2657\n",
            "Epoch 77/100\n",
            "31/31 [==============================] - 1s 25ms/step - loss: 4.6515 - mae: 5.1300 - val_loss: 6.3700 - val_mae: 6.8499\n",
            "Epoch 78/100\n",
            "31/31 [==============================] - 1s 21ms/step - loss: 4.6830 - mae: 5.1589 - val_loss: 6.4326 - val_mae: 6.9115\n",
            "Epoch 79/100\n",
            "31/31 [==============================] - 1s 15ms/step - loss: 4.6333 - mae: 5.1105 - val_loss: 5.9608 - val_mae: 6.4406\n",
            "Epoch 80/100\n",
            "31/31 [==============================] - 1s 14ms/step - loss: 4.6642 - mae: 5.1428 - val_loss: 5.7577 - val_mae: 6.2411\n",
            "Epoch 81/100\n",
            "31/31 [==============================] - 1s 15ms/step - loss: 4.6808 - mae: 5.1570 - val_loss: 5.8361 - val_mae: 6.3193\n",
            "Epoch 82/100\n",
            "31/31 [==============================] - 1s 14ms/step - loss: 4.6420 - mae: 5.1154 - val_loss: 6.0218 - val_mae: 6.5017\n",
            "Epoch 83/100\n",
            "31/31 [==============================] - 1s 14ms/step - loss: 4.5661 - mae: 5.0408 - val_loss: 5.9567 - val_mae: 6.4359\n",
            "Epoch 84/100\n",
            "31/31 [==============================] - 1s 14ms/step - loss: 4.7449 - mae: 5.2243 - val_loss: 7.0325 - val_mae: 7.5174\n",
            "Epoch 85/100\n",
            "31/31 [==============================] - 1s 14ms/step - loss: 4.7325 - mae: 5.2084 - val_loss: 5.8101 - val_mae: 6.2928\n",
            "Epoch 86/100\n",
            "31/31 [==============================] - 1s 16ms/step - loss: 4.6524 - mae: 5.1269 - val_loss: 6.6153 - val_mae: 7.0926\n",
            "Epoch 87/100\n",
            "31/31 [==============================] - 1s 16ms/step - loss: 4.5548 - mae: 5.0295 - val_loss: 5.5893 - val_mae: 6.0741\n",
            "Epoch 88/100\n",
            "31/31 [==============================] - 1s 14ms/step - loss: 4.5631 - mae: 5.0358 - val_loss: 6.2948 - val_mae: 6.7755\n",
            "Epoch 89/100\n",
            "31/31 [==============================] - 1s 14ms/step - loss: 4.8288 - mae: 5.3074 - val_loss: 6.1748 - val_mae: 6.6547\n",
            "Epoch 90/100\n",
            "31/31 [==============================] - 1s 14ms/step - loss: 4.9147 - mae: 5.3884 - val_loss: 6.2340 - val_mae: 6.7157\n",
            "Epoch 91/100\n",
            "31/31 [==============================] - 1s 14ms/step - loss: 4.5616 - mae: 5.0330 - val_loss: 5.8016 - val_mae: 6.2840\n",
            "Epoch 92/100\n",
            "31/31 [==============================] - 1s 14ms/step - loss: 4.6480 - mae: 5.1231 - val_loss: 6.0071 - val_mae: 6.4860\n",
            "Epoch 93/100\n",
            "31/31 [==============================] - 1s 14ms/step - loss: 4.5994 - mae: 5.0745 - val_loss: 5.8398 - val_mae: 6.3213\n",
            "Epoch 94/100\n",
            "31/31 [==============================] - 1s 14ms/step - loss: 4.7071 - mae: 5.1898 - val_loss: 8.0102 - val_mae: 8.5014\n",
            "Epoch 95/100\n",
            "31/31 [==============================] - 1s 14ms/step - loss: 4.7165 - mae: 5.1891 - val_loss: 6.0565 - val_mae: 6.5362\n",
            "Epoch 96/100\n",
            "31/31 [==============================] - 1s 21ms/step - loss: 4.5545 - mae: 5.0323 - val_loss: 5.6930 - val_mae: 6.1768\n",
            "Epoch 97/100\n",
            "31/31 [==============================] - 1s 20ms/step - loss: 4.6635 - mae: 5.1414 - val_loss: 6.1732 - val_mae: 6.6530\n",
            "Epoch 98/100\n",
            "31/31 [==============================] - 1s 21ms/step - loss: 4.5483 - mae: 5.0261 - val_loss: 5.6999 - val_mae: 6.1829\n",
            "Epoch 99/100\n",
            "31/31 [==============================] - 1s 14ms/step - loss: 4.6304 - mae: 5.1113 - val_loss: 5.5084 - val_mae: 5.9874\n",
            "Epoch 100/100\n",
            "31/31 [==============================] - 1s 14ms/step - loss: 4.5810 - mae: 5.0568 - val_loss: 6.3374 - val_mae: 6.8165\n"
          ]
        }
      ],
      "source": [
        "# Reset states generated by Keras\n",
        "tf.keras.backend.clear_session()\n",
        "\n",
        "# Build the model\n",
        "model = tf.keras.models.Sequential([\n",
        "  tf.keras.layers.Lambda(lambda x: tf.expand_dims(x, axis=-1),\n",
        "                      input_shape=[None]),\n",
        "   tf.keras.layers.Bidirectional(tf.keras.layers.LSTM(32, return_sequences=True)),\n",
        "  tf.keras.layers.Bidirectional(tf.keras.layers.LSTM(32)),\n",
        "  tf.keras.layers.Dense(1),\n",
        "  tf.keras.layers.Lambda(lambda x: x * 100.0)\n",
        "])\n",
        "\n",
        "# Set the learning rate\n",
        "learning_rate = 2e-6\n",
        "\n",
        "# Set the optimizer\n",
        "optimizer = tf.keras.optimizers.SGD(learning_rate=learning_rate, momentum=0.9)\n",
        "\n",
        "# Set the training parameters\n",
        "model.compile(loss=tf.keras.losses.Huber(),\n",
        "              optimizer=optimizer,\n",
        "              metrics=[\"mae\"])\n",
        "\n",
        "# Train the model\n",
        "history = model.fit(dataset,epochs=100, validation_data=val_set)"
      ]
    }
  ],
  "metadata": {
    "accelerator": "GPU",
    "colab": {
      "provenance": [],
      "gpuType": "T4",
      "toc_visible": true
    },
    "kernelspec": {
      "display_name": "Python 3",
      "name": "python3"
    },
    "language_info": {
      "codemirror_mode": {
        "name": "ipython",
        "version": 3
      },
      "file_extension": ".py",
      "mimetype": "text/x-python",
      "name": "python",
      "nbconvert_exporter": "python",
      "pygments_lexer": "ipython3",
      "version": "3.9.13"
    }
  },
  "nbformat": 4,
  "nbformat_minor": 0
}